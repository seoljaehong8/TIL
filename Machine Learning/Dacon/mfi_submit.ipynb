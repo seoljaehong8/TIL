{
 "metadata": {
  "language_info": {
   "codemirror_mode": {
    "name": "ipython",
    "version": 3
   },
   "file_extension": ".py",
   "mimetype": "text/x-python",
   "name": "python",
   "nbconvert_exporter": "python",
   "pygments_lexer": "ipython3",
   "version": "3.8.6"
  },
  "orig_nbformat": 4,
  "kernelspec": {
   "name": "python3",
   "display_name": "Python 3.8.6 64-bit"
  },
  "interpreter": {
   "hash": "fc303df08b3d6126821f93a5ef5fb23b21b4b442f99ee21cb6ef7a22fe5dc059"
  }
 },
 "nbformat": 4,
 "nbformat_minor": 2,
 "cells": [
  {
   "cell_type": "code",
   "execution_count": 1,
   "metadata": {},
   "outputs": [],
   "source": [
    "import pandas as pd\n",
    "import numpy as np\n",
    "import itertools\n",
    "\n",
    "# 2. 시각화\n",
    "import matplotlib.pyplot as plt\n",
    "%matplotlib inline\n",
    "import seaborn as sns\n",
    "\n",
    "\n",
    "# 3. 유틸\n",
    "# tqdm 패키지는 반복문에 대해 얼마나 진척되었는지를 가시적으로 확인할 수 있도록 도와줍니다.\n",
    "# https://github.com/tqdm/tqdm 사용법은 정말 간단합니다.\n",
    "from tqdm.auto import tqdm\n",
    "\n",
    "\n",
    "# 4. 설정\n",
    "# 경고가 나와서, 출력이 많아지지 않기 위해 ignore를 설정해주었습니다.\n",
    "import warnings\n",
    "warnings.filterwarnings('ignore')\n",
    "\n",
    "\n",
    "# 5. stats models\n",
    "# 시계열 모델을 위한 ARIMA를 임포트 해주었습니다.\n",
    "from statsmodels.tsa.arima_model import ARIMA\n",
    "from pmdarima.arima import auto_arima"
   ]
  },
  {
   "cell_type": "code",
   "execution_count": 21,
   "metadata": {},
   "outputs": [],
   "source": [
    "test_x = pd.read_csv(\"test_x_df.csv\")\n"
   ]
  },
  {
   "cell_type": "code",
   "execution_count": 2,
   "metadata": {},
   "outputs": [],
   "source": [
    "train_x = pd.read_csv(\"train_x_df.csv\")\n",
    "train_y = pd.read_csv(\"train_y_df.csv\")"
   ]
  },
  {
   "cell_type": "code",
   "execution_count": 3,
   "metadata": {},
   "outputs": [],
   "source": [
    "def make_mfi(my_df):\n",
    "    period = 14\n",
    "    result = []\n",
    "\n",
    "    for sample_id in my_df['sample_id'].unique().tolist():\n",
    "      df = my_df[my_df['sample_id'] == sample_id]\n",
    "\n",
    "      df['typical_price'] = (df['close'] + df['high'] + df['low']) / 3\n",
    "      df['money_flow'] = df['typical_price'] * df['volume']\n",
    "      df['price_diff'] = df.groupby(['sample_id'])['typical_price'].diff(1).shift(-1)\n",
    "      df['pf'] = np.where(df['price_diff'] > 0, df['money_flow'], 0)\n",
    "      df['nf'] = np.where(df['price_diff'] < 0, df['money_flow'], 0)\n",
    "\n",
    "      # 상승분의 14일 평균을 구해줍니다.\n",
    "      # 하락분의 14일 평균을 구해줍니다.\n",
    "      df[\"pmf\"] = df[\"pf\"].rolling(window=period, min_periods=period).sum()\n",
    "      df[\"nmf\"] = df[\"nf\"].rolling(window=period, min_periods=period).sum()\n",
    "\n",
    "      MFI = df['pmf'] / (df['pmf'] + df['nmf'])\n",
    "      df['mfi'] = MFI\n",
    "      df['mfi'] = df['mfi'].shift(1)\n",
    "\n",
    "      result.append(df)\n",
    "      \n",
    "    output = pd.concat(result, axis=0)\n",
    "\n",
    "    return output"
   ]
  },
  {
   "cell_type": "code",
   "execution_count": 22,
   "metadata": {},
   "outputs": [],
   "source": [
    "test_x = make_mfi(test_x)"
   ]
  },
  {
   "cell_type": "code",
   "execution_count": null,
   "metadata": {},
   "outputs": [],
   "source": [
    "test_x"
   ]
  },
  {
   "cell_type": "code",
   "execution_count": 4,
   "metadata": {},
   "outputs": [],
   "source": [
    "train_x = make_mfi(train_x[train_x['sample_id'] < 1000])\n",
    "train_y = make_mfi(train_y[train_y['sample_id'] < 1000])"
   ]
  },
  {
   "cell_type": "code",
   "execution_count": 43,
   "metadata": {},
   "outputs": [
    {
     "output_type": "execute_result",
     "data": {
      "text/plain": [
       "        sample_id  time  coin_index      open      high       low     close  \\\n",
       "0               0     0           0  0.993147  0.993546  0.992857  0.992966   \n",
       "1               0     1           0  0.993256  0.993546  0.992712  0.992712   \n",
       "2               0     2           0  0.992748  0.994815  0.992458  0.994815   \n",
       "3               0     3           0  0.994779  0.995286  0.994090  0.994996   \n",
       "4               0     4           0  0.994561  0.994779  0.993727  0.994779   \n",
       "...           ...   ...         ...       ...       ...       ...       ...   \n",
       "551995        399  1375           6  1.006870  1.008103  1.006341  1.006518   \n",
       "551996        399  1376           6  1.006518  1.006518  1.002642  1.002995   \n",
       "551997        399  1377           6  1.002995  1.002995  0.996829  1.002290   \n",
       "551998        399  1378           6  1.002114  1.003347  1.000176  1.000176   \n",
       "551999        399  1379           6  1.000000  1.000352  0.993659  0.994892   \n",
       "\n",
       "             volume      quote_av     trades   tb_base_av  tb_quote_av  \\\n",
       "0       1379.478027   3778.584961  11.240029   329.655548   903.091614   \n",
       "1       3438.807373   9419.426758  11.602611  1363.999268  3737.512695   \n",
       "2       3714.949463  10173.972656  19.579407  1222.802856  3350.688721   \n",
       "3       2430.264648   6666.315430  15.591008   520.159546  1426.920776   \n",
       "4       3062.139404   8395.172852  15.228427  2166.334473  5939.279785   \n",
       "...             ...           ...        ...          ...          ...   \n",
       "551995    21.015982   1201.546631   2.060948    11.966638   684.212280   \n",
       "551996    29.148287   1661.261963   2.871235     9.344916   532.389954   \n",
       "551997    88.265602   5008.012695  10.551348    34.899464  1979.980103   \n",
       "551998    28.551916   1624.406128   3.434913    13.287203   755.970886   \n",
       "551999   147.917175   8365.278320  12.418530    38.973370  2203.298584   \n",
       "\n",
       "        typical_price   money_flow  price_diff           pf           nf  \\\n",
       "0            0.993123  1369.991487   -0.000133     0.000000  1369.991487   \n",
       "1            0.992990  3414.701802    0.001039  3414.701802     0.000000   \n",
       "2            0.994030  3692.769439    0.000761  3692.769439     0.000000   \n",
       "3            0.994791  2417.605282   -0.000363     0.000000  2417.605282   \n",
       "4            0.994428  3045.078194    0.000520  3045.078194     0.000000   \n",
       "...               ...          ...         ...          ...          ...   \n",
       "551995       1.006987    21.162826   -0.002936     0.000000    21.162826   \n",
       "551996       1.004051    29.266378   -0.003347     0.000000    29.266378   \n",
       "551997       1.000705    88.327796    0.000528    88.327796     0.000000   \n",
       "551998       1.001233    28.587120   -0.004932     0.000000    28.587120   \n",
       "551999       0.996301   147.370005         NaN     0.000000     0.000000   \n",
       "\n",
       "               pmf         nmf       mfi  \n",
       "0              NaN         NaN       NaN  \n",
       "1              NaN         NaN       NaN  \n",
       "2              NaN         NaN       NaN  \n",
       "3              NaN         NaN       NaN  \n",
       "4              NaN         NaN       NaN  \n",
       "...            ...         ...       ...  \n",
       "551995  114.031268  149.229067  0.482678  \n",
       "551996  114.031268  176.229006  0.433150  \n",
       "551997  202.359065  173.961499  0.392859  \n",
       "551998  202.359065  182.177143  0.537731  \n",
       "551999  185.584572  182.177143  0.526242  \n",
       "\n",
       "[552000 rows x 20 columns]"
      ],
      "text/html": "<div>\n<style scoped>\n    .dataframe tbody tr th:only-of-type {\n        vertical-align: middle;\n    }\n\n    .dataframe tbody tr th {\n        vertical-align: top;\n    }\n\n    .dataframe thead th {\n        text-align: right;\n    }\n</style>\n<table border=\"1\" class=\"dataframe\">\n  <thead>\n    <tr style=\"text-align: right;\">\n      <th></th>\n      <th>sample_id</th>\n      <th>time</th>\n      <th>coin_index</th>\n      <th>open</th>\n      <th>high</th>\n      <th>low</th>\n      <th>close</th>\n      <th>volume</th>\n      <th>quote_av</th>\n      <th>trades</th>\n      <th>tb_base_av</th>\n      <th>tb_quote_av</th>\n      <th>typical_price</th>\n      <th>money_flow</th>\n      <th>price_diff</th>\n      <th>pf</th>\n      <th>nf</th>\n      <th>pmf</th>\n      <th>nmf</th>\n      <th>mfi</th>\n    </tr>\n  </thead>\n  <tbody>\n    <tr>\n      <th>0</th>\n      <td>0</td>\n      <td>0</td>\n      <td>0</td>\n      <td>0.993147</td>\n      <td>0.993546</td>\n      <td>0.992857</td>\n      <td>0.992966</td>\n      <td>1379.478027</td>\n      <td>3778.584961</td>\n      <td>11.240029</td>\n      <td>329.655548</td>\n      <td>903.091614</td>\n      <td>0.993123</td>\n      <td>1369.991487</td>\n      <td>-0.000133</td>\n      <td>0.000000</td>\n      <td>1369.991487</td>\n      <td>NaN</td>\n      <td>NaN</td>\n      <td>NaN</td>\n    </tr>\n    <tr>\n      <th>1</th>\n      <td>0</td>\n      <td>1</td>\n      <td>0</td>\n      <td>0.993256</td>\n      <td>0.993546</td>\n      <td>0.992712</td>\n      <td>0.992712</td>\n      <td>3438.807373</td>\n      <td>9419.426758</td>\n      <td>11.602611</td>\n      <td>1363.999268</td>\n      <td>3737.512695</td>\n      <td>0.992990</td>\n      <td>3414.701802</td>\n      <td>0.001039</td>\n      <td>3414.701802</td>\n      <td>0.000000</td>\n      <td>NaN</td>\n      <td>NaN</td>\n      <td>NaN</td>\n    </tr>\n    <tr>\n      <th>2</th>\n      <td>0</td>\n      <td>2</td>\n      <td>0</td>\n      <td>0.992748</td>\n      <td>0.994815</td>\n      <td>0.992458</td>\n      <td>0.994815</td>\n      <td>3714.949463</td>\n      <td>10173.972656</td>\n      <td>19.579407</td>\n      <td>1222.802856</td>\n      <td>3350.688721</td>\n      <td>0.994030</td>\n      <td>3692.769439</td>\n      <td>0.000761</td>\n      <td>3692.769439</td>\n      <td>0.000000</td>\n      <td>NaN</td>\n      <td>NaN</td>\n      <td>NaN</td>\n    </tr>\n    <tr>\n      <th>3</th>\n      <td>0</td>\n      <td>3</td>\n      <td>0</td>\n      <td>0.994779</td>\n      <td>0.995286</td>\n      <td>0.994090</td>\n      <td>0.994996</td>\n      <td>2430.264648</td>\n      <td>6666.315430</td>\n      <td>15.591008</td>\n      <td>520.159546</td>\n      <td>1426.920776</td>\n      <td>0.994791</td>\n      <td>2417.605282</td>\n      <td>-0.000363</td>\n      <td>0.000000</td>\n      <td>2417.605282</td>\n      <td>NaN</td>\n      <td>NaN</td>\n      <td>NaN</td>\n    </tr>\n    <tr>\n      <th>4</th>\n      <td>0</td>\n      <td>4</td>\n      <td>0</td>\n      <td>0.994561</td>\n      <td>0.994779</td>\n      <td>0.993727</td>\n      <td>0.994779</td>\n      <td>3062.139404</td>\n      <td>8395.172852</td>\n      <td>15.228427</td>\n      <td>2166.334473</td>\n      <td>5939.279785</td>\n      <td>0.994428</td>\n      <td>3045.078194</td>\n      <td>0.000520</td>\n      <td>3045.078194</td>\n      <td>0.000000</td>\n      <td>NaN</td>\n      <td>NaN</td>\n      <td>NaN</td>\n    </tr>\n    <tr>\n      <th>...</th>\n      <td>...</td>\n      <td>...</td>\n      <td>...</td>\n      <td>...</td>\n      <td>...</td>\n      <td>...</td>\n      <td>...</td>\n      <td>...</td>\n      <td>...</td>\n      <td>...</td>\n      <td>...</td>\n      <td>...</td>\n      <td>...</td>\n      <td>...</td>\n      <td>...</td>\n      <td>...</td>\n      <td>...</td>\n      <td>...</td>\n      <td>...</td>\n      <td>...</td>\n    </tr>\n    <tr>\n      <th>551995</th>\n      <td>399</td>\n      <td>1375</td>\n      <td>6</td>\n      <td>1.006870</td>\n      <td>1.008103</td>\n      <td>1.006341</td>\n      <td>1.006518</td>\n      <td>21.015982</td>\n      <td>1201.546631</td>\n      <td>2.060948</td>\n      <td>11.966638</td>\n      <td>684.212280</td>\n      <td>1.006987</td>\n      <td>21.162826</td>\n      <td>-0.002936</td>\n      <td>0.000000</td>\n      <td>21.162826</td>\n      <td>114.031268</td>\n      <td>149.229067</td>\n      <td>0.482678</td>\n    </tr>\n    <tr>\n      <th>551996</th>\n      <td>399</td>\n      <td>1376</td>\n      <td>6</td>\n      <td>1.006518</td>\n      <td>1.006518</td>\n      <td>1.002642</td>\n      <td>1.002995</td>\n      <td>29.148287</td>\n      <td>1661.261963</td>\n      <td>2.871235</td>\n      <td>9.344916</td>\n      <td>532.389954</td>\n      <td>1.004051</td>\n      <td>29.266378</td>\n      <td>-0.003347</td>\n      <td>0.000000</td>\n      <td>29.266378</td>\n      <td>114.031268</td>\n      <td>176.229006</td>\n      <td>0.433150</td>\n    </tr>\n    <tr>\n      <th>551997</th>\n      <td>399</td>\n      <td>1377</td>\n      <td>6</td>\n      <td>1.002995</td>\n      <td>1.002995</td>\n      <td>0.996829</td>\n      <td>1.002290</td>\n      <td>88.265602</td>\n      <td>5008.012695</td>\n      <td>10.551348</td>\n      <td>34.899464</td>\n      <td>1979.980103</td>\n      <td>1.000705</td>\n      <td>88.327796</td>\n      <td>0.000528</td>\n      <td>88.327796</td>\n      <td>0.000000</td>\n      <td>202.359065</td>\n      <td>173.961499</td>\n      <td>0.392859</td>\n    </tr>\n    <tr>\n      <th>551998</th>\n      <td>399</td>\n      <td>1378</td>\n      <td>6</td>\n      <td>1.002114</td>\n      <td>1.003347</td>\n      <td>1.000176</td>\n      <td>1.000176</td>\n      <td>28.551916</td>\n      <td>1624.406128</td>\n      <td>3.434913</td>\n      <td>13.287203</td>\n      <td>755.970886</td>\n      <td>1.001233</td>\n      <td>28.587120</td>\n      <td>-0.004932</td>\n      <td>0.000000</td>\n      <td>28.587120</td>\n      <td>202.359065</td>\n      <td>182.177143</td>\n      <td>0.537731</td>\n    </tr>\n    <tr>\n      <th>551999</th>\n      <td>399</td>\n      <td>1379</td>\n      <td>6</td>\n      <td>1.000000</td>\n      <td>1.000352</td>\n      <td>0.993659</td>\n      <td>0.994892</td>\n      <td>147.917175</td>\n      <td>8365.278320</td>\n      <td>12.418530</td>\n      <td>38.973370</td>\n      <td>2203.298584</td>\n      <td>0.996301</td>\n      <td>147.370005</td>\n      <td>NaN</td>\n      <td>0.000000</td>\n      <td>0.000000</td>\n      <td>185.584572</td>\n      <td>182.177143</td>\n      <td>0.526242</td>\n    </tr>\n  </tbody>\n</table>\n<p>552000 rows × 20 columns</p>\n</div>"
     },
     "metadata": {},
     "execution_count": 43
    }
   ],
   "source": [
    "train_x"
   ]
  },
  {
   "cell_type": "code",
   "execution_count": 24,
   "metadata": {},
   "outputs": [],
   "source": [
    "TEST_SAMPLE_ID_LIST = test_x[\"sample_id\"].unique().tolist()"
   ]
  },
  {
   "cell_type": "code",
   "execution_count": 5,
   "metadata": {},
   "outputs": [],
   "source": [
    "TRAIN_SAMPLE_ID_LIST = train_x[\"sample_id\"].unique().tolist()"
   ]
  },
  {
   "cell_type": "code",
   "execution_count": 6,
   "metadata": {},
   "outputs": [],
   "source": [
    "def get_typical_price(df,sample_id):    \n",
    "    return df[df[\"sample_id\"] == sample_id]['typical_price'].values"
   ]
  },
  {
   "cell_type": "code",
   "execution_count": 7,
   "metadata": {},
   "outputs": [],
   "source": [
    "def get_mfi(df,sample_id):\n",
    "  return df[df[\"sample_id\"] == sample_id]['mfi'].values"
   ]
  },
  {
   "cell_type": "code",
   "execution_count": 8,
   "metadata": {},
   "outputs": [],
   "source": [
    "# AIC 값이 최소인 p,d,q 값 직접 구하기\n",
    "def model_fit(df, sample_id_list):\n",
    "    result = []\n",
    "\n",
    "    for sample_id in tqdm(sample_id_list):\n",
    "\n",
    "        price_x = get_typical_price(df, sample_id)\n",
    "        mfi_series = get_mfi(df, sample_id)\n",
    "\n",
    "        # 2. ARIMA\n",
    "        # 1) 모델 정의\n",
    "        ARIMA_MODEL = {}\n",
    "        ARIMA_MODEL_FIT = {}\n",
    "\n",
    "        # 2) AR 모델 적용\n",
    "        try:\n",
    "            ARIMA_MODEL = ARIMA(price_x, order = (5,1,1))\n",
    "            ARIMA_MODEL_FIT = ARIMA_MODEL.fit(trend = 'nc', full_output = True, disp = True)\n",
    "\n",
    "        # 3) 수렴하지 않을 경우 p d q 를 1, 1, 0으로 사용\n",
    "        except:\n",
    "            ARIMA_MODEL = ARIMA(price_x, order = (1,1,0))\n",
    "            ARIMA_MODEL_FIT = ARIMA_MODEL.fit(trend = 'nc', full_output = True, disp = True)\n",
    "\n",
    "        # 4) ARIMA 예측\n",
    "        ARIMA_FORECAST  = ARIMA_MODEL_FIT.predict(1,120, typ='levels')\n",
    "\n",
    "        # 3. 데이처 처리\n",
    "        # 1) 최대 부분인 인덱스를 찾는데 해당 시점에 매도를 진행합니다.\n",
    "        sell_time = np.argmax(ARIMA_FORECAST)\n",
    "\n",
    "        # 2) 최대값을 찾습니다.\n",
    "        max_val = np.max(ARIMA_FORECAST)\n",
    "\n",
    "        mfi_last_val = mfi_series[1379]\n",
    "\n",
    "        # 4. 투자 전략\n",
    "        buy_quantity = 0\n",
    "\n",
    "        # 1) typical_price가 1.1 이상이면 투자합니다.\n",
    "        if  max_val > 1.15:\n",
    "            buy_quantity = 1\n",
    "\n",
    "        if mfi_last_val > 0.7:\n",
    "            buy_quantity = 0\n",
    "            \n",
    "        # if mfi_last_val < 0.2:\n",
    "        #     buy_quantity = 1\n",
    "\n",
    "        # 5. 결과\n",
    "        result_list = [\n",
    "                        sample_id,\n",
    "                        buy_quantity,\n",
    "                        sell_time,\n",
    "                        max_val,\n",
    "                    ]\n",
    "\n",
    "        result.append(result_list)\n",
    "\n",
    "    return result"
   ]
  },
  {
   "cell_type": "code",
   "execution_count": 9,
   "metadata": {},
   "outputs": [
    {
     "output_type": "stream",
     "name": "stderr",
     "text": [
      "  3%|▎         | 30/1000 [00:12<06:15,  2.58it/s]C:\\Users\\user1\\AppData\\Local\\Programs\\Python\\Python38\\lib\\site-packages\\statsmodels\\base\\model.py:547: HessianInversionWarning: Inverting hessian failed, no bse or cov_params available\n",
      "  warnings.warn('Inverting hessian failed, no bse or cov_params '\n",
      "C:\\Users\\user1\\AppData\\Local\\Programs\\Python\\Python38\\lib\\site-packages\\statsmodels\\base\\model.py:566: ConvergenceWarning: Maximum Likelihood optimization failed to converge. Check mle_retvals\n",
      "  warnings.warn(\"Maximum Likelihood optimization failed to \"\n",
      "100%|██████████| 1000/1000 [07:53<00:00,  2.11it/s]\n"
     ]
    }
   ],
   "source": [
    "# result = model_fit(test_x, TEST_SAMPLE_ID_LIST)\n",
    "result = model_fit(train_x, TRAIN_SAMPLE_ID_LIST)"
   ]
  },
  {
   "cell_type": "code",
   "execution_count": 10,
   "metadata": {},
   "outputs": [],
   "source": [
    "submit_columns = [\n",
    "                  \"sample_id\", \n",
    "                  \"buy_quantity\", \n",
    "                  \"sell_time\",\n",
    "                  \"max_val\"\n",
    "                  ]\n",
    "\n",
    "submit = pd.DataFrame(data=result, columns=submit_columns)"
   ]
  },
  {
   "cell_type": "code",
   "execution_count": 11,
   "metadata": {},
   "outputs": [
    {
     "output_type": "execute_result",
     "data": {
      "text/plain": [
       "25"
      ]
     },
     "metadata": {},
     "execution_count": 11
    }
   ],
   "source": [
    "#투자할 sample_id 갯수 확인\n",
    "submit[submit[\"buy_quantity\"] == 1].shape[0]  "
   ]
  },
  {
   "cell_type": "code",
   "execution_count": 28,
   "metadata": {},
   "outputs": [
    {
     "output_type": "execute_result",
     "data": {
      "text/plain": [
       "0    731\n",
       "1     29\n",
       "Name: buy_quantity, dtype: int64"
      ]
     },
     "metadata": {},
     "execution_count": 28
    }
   ],
   "source": [
    "submit.buy_quantity.value_counts()"
   ]
  },
  {
   "cell_type": "code",
   "execution_count": 12,
   "metadata": {},
   "outputs": [
    {
     "output_type": "execute_result",
     "data": {
      "text/plain": [
       "4        4\n",
       "30      30\n",
       "33      33\n",
       "141    141\n",
       "156    156\n",
       "209    209\n",
       "307    307\n",
       "314    314\n",
       "431    431\n",
       "497    497\n",
       "548    548\n",
       "558    558\n",
       "596    596\n",
       "639    639\n",
       "676    676\n",
       "746    746\n",
       "800    800\n",
       "823    823\n",
       "831    831\n",
       "843    843\n",
       "880    880\n",
       "899    899\n",
       "909    909\n",
       "982    982\n",
       "987    987\n",
       "Name: sample_id, dtype: int64"
      ]
     },
     "metadata": {},
     "execution_count": 12
    }
   ],
   "source": [
    "sample_id = submit[submit[\"buy_quantity\"] == 1]['sample_id']\n",
    "sample_id"
   ]
  },
  {
   "cell_type": "code",
   "execution_count": 15,
   "metadata": {
    "tags": []
   },
   "outputs": [
    {
     "output_type": "stream",
     "name": "stdout",
     "text": [
      "0.9852941036224364 1.2198848844762473\n1.0009417533874512 1.1659874825535426\n0.9818181991577148 1.181508283997616\n0.9882226586341858 1.1500890994380981\n0.9857827425003052 1.194095507675599\n0.97020024061203 1.2293137430288938\n1.0001453161239624 1.193583226590979\n1.001083493232727 1.2179777224858601\n1.014967441558838 1.161400494127384\n1.0131964683532717 1.249160041214169\n0.997200846672058 1.1717625602320618\n0.9918144345283508 1.217254151519984\n0.9885765314102172 1.1659891974480512\n1.0081809759140017 1.1727431025951687\n1.0100773572921753 1.1752262979835224\n0.9926474690437316 1.16794633755896\n0.9260563254356384 2.067502770510632\n0.9921023845672609 1.24185250191781\n1.0098665952682495 1.1520188794281685\n0.9964907765388488 1.162158907338475\n0.9622569680213928 1.1519652323716778\n0.9955139756202698 1.1854666073703954\n0.9374434351921082 1.239370409961721\n0.9987952709197998 1.2618549664815266\n1.0012764930725098 1.3789609965276524\n"
     ]
    }
   ],
   "source": [
    "for i in sample_id:\n",
    "    dfy = train_y[train_y['sample_id'] == i]\n",
    "    sell_time = submit[submit['sample_id'] == i]['sell_time'].values[0]\n",
    "    print(dfy[dfy['time'] == sell_time]['close'].values[0], end=' ')\n",
    "    val = submit[submit['sample_id'] == i]['max_val'].values[0]\n",
    "    print(val)"
   ]
  },
  {
   "cell_type": "code",
   "execution_count": 29,
   "metadata": {},
   "outputs": [],
   "source": [
    "def df2d_to_answer(df_2d):\n",
    "    # valid_y_df로부터\n",
    "    # open 가격 정보가 포함된\n",
    "    # [샘플 수, 120분] 크기의 \n",
    "    # 2차원 array를 반환하는 함수\n",
    "    feature_size = df_2d.iloc[:,2:].shape[1]\n",
    "    time_size = len(df_2d.time.value_counts())\n",
    "    sample_size = len(df_2d.sample_id.value_counts())\n",
    "    sample_index = df_2d.sample_id.value_counts().index\n",
    "    array_2d = df_2d.open.values.reshape([sample_size, time_size])\n",
    "    sample_index = list(sample_index)\n",
    "    return array_2d, sample_index\n",
    "\n",
    "\n",
    "def COIN(y_df, submission, df2d_to_answer = df2d_to_answer):\n",
    "    # 2차원 데이터프레임에서 open 시점 데이터만 추출하여 array로 복원\n",
    "    # sample_id정보를 index에 저장\n",
    "    y_array, index = df2d_to_answer(y_df)\n",
    "\n",
    "    \n",
    "    # index 기준으로 submission을 다시 선택\n",
    "    submission = submission.set_index(submission.columns[0])\n",
    "    submission = submission.iloc[index, :]    \n",
    "    \n",
    "    # 초기 투자 비용은 10000 달러\n",
    "    total_momey      = 10000 # dolors\n",
    "    total_momey_list = []\n",
    "    \n",
    "    # 가장 처음 sample_id값\n",
    "    start_index = submission.index[0]\n",
    "    for row_idx in submission.index:\n",
    "        sell_time  = submission.loc[row_idx, 'sell_time']\n",
    "        buy_price  = y_array[row_idx - start_index, 0]\n",
    "        sell_price = y_array[row_idx - start_index, sell_time]\n",
    "        buy_quantity = submission.loc[row_idx, 'buy_quantity'] * total_momey\n",
    "        residual = total_momey - buy_quantity\n",
    "        ratio = sell_price / buy_price\n",
    "        total_momey = buy_quantity * ratio * 0.9995 * 0.9995 + residual        \n",
    "        total_momey_list.append(total_momey)\n",
    "        \n",
    "    return total_momey, total_momey_list"
   ]
  },
  {
   "cell_type": "code",
   "execution_count": 38,
   "metadata": {},
   "outputs": [],
   "source": [
    "FILE_NAME = \"/0617_AUTO_ARIMA_MFI_20UNDER_MAXVAL_110_SUBMIT.csv\""
   ]
  },
  {
   "cell_type": "code",
   "execution_count": 39,
   "metadata": {},
   "outputs": [],
   "source": [
    "SUBMIT_PATH = \"./data\"\n",
    "RESULT_PATH = SUBMIT_PATH + FILE_NAME\n",
    "\n",
    "submit.to_csv(RESULT_PATH, index=False)"
   ]
  }
 ]
}