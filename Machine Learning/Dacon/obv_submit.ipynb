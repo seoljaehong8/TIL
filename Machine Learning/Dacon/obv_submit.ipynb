{
 "metadata": {
  "language_info": {
   "codemirror_mode": {
    "name": "ipython",
    "version": 3
   },
   "file_extension": ".py",
   "mimetype": "text/x-python",
   "name": "python",
   "nbconvert_exporter": "python",
   "pygments_lexer": "ipython3",
   "version": "3.8.6"
  },
  "orig_nbformat": 4,
  "kernelspec": {
   "name": "python3",
   "display_name": "Python 3.8.6 64-bit"
  },
  "interpreter": {
   "hash": "fc303df08b3d6126821f93a5ef5fb23b21b4b442f99ee21cb6ef7a22fe5dc059"
  }
 },
 "nbformat": 4,
 "nbformat_minor": 2,
 "cells": [
  {
   "cell_type": "code",
   "execution_count": 1,
   "metadata": {},
   "outputs": [],
   "source": [
    "import pandas as pd\n",
    "import numpy as np\n",
    "import itertools\n",
    "\n",
    "# 2. 시각화\n",
    "import matplotlib.pyplot as plt\n",
    "%matplotlib inline\n",
    "import seaborn as sns\n",
    "\n",
    "\n",
    "# 3. 유틸\n",
    "# tqdm 패키지는 반복문에 대해 얼마나 진척되었는지를 가시적으로 확인할 수 있도록 도와줍니다.\n",
    "# https://github.com/tqdm/tqdm 사용법은 정말 간단합니다.\n",
    "from tqdm.auto import tqdm\n",
    "\n",
    "\n",
    "# 4. 설정\n",
    "# 경고가 나와서, 출력이 많아지지 않기 위해 ignore를 설정해주었습니다.\n",
    "import warnings\n",
    "warnings.filterwarnings('ignore')\n",
    "\n",
    "\n",
    "# 5. stats models\n",
    "# 시계열 모델을 위한 ARIMA를 임포트 해주었습니다.\n",
    "from statsmodels.tsa.arima_model import ARIMA\n",
    "from pmdarima.arima import auto_arima"
   ]
  },
  {
   "cell_type": "code",
   "execution_count": 2,
   "metadata": {},
   "outputs": [],
   "source": [
    "test_x = pd.read_csv(\"test_x_df.csv\")"
   ]
  },
  {
   "cell_type": "code",
   "execution_count": 3,
   "metadata": {},
   "outputs": [],
   "source": [
    "def buy_sell(signal, col1, col2):\n",
    "    sigPriceBuy = []\n",
    "    flag = -1\n",
    "\n",
    "    for i in range(0, len(signal)):\n",
    "        if signal[col1][i] > signal[col2][i] and flag != 1:\n",
    "            sigPriceBuy.append(signal['close'][i])\n",
    "            flag = 1\n",
    "\n",
    "        elif signal[col1][i] < signal[col2][i] and flag != 0:\n",
    "            sigPriceBuy.append(np.nan)\n",
    "            flag = 0\n",
    "\n",
    "        else:\n",
    "            sigPriceBuy.append(np.nan)\n",
    "    \n",
    "    return (sigPriceBuy)"
   ]
  },
  {
   "cell_type": "code",
   "execution_count": 4,
   "metadata": {},
   "outputs": [],
   "source": [
    "def make_obv(my_df):\n",
    "    \n",
    "    result = []\n",
    "\n",
    "    for sample_id in my_df['sample_id'].unique().tolist():\n",
    "        df = my_df[my_df['sample_id'] == sample_id]\n",
    "        df.reset_index(inplace=True)\n",
    "        OBV = []\n",
    "        OBV.append(0)\n",
    "        for i in range(1, len(df.close)):\n",
    "            if df.close[i] > df.close[i-1]:\n",
    "                OBV.append(OBV[-1] + df.volume[i])\n",
    "            elif df.close[i] < df.close[i-1]:\n",
    "                OBV.append(OBV[-1] - df.volume[i])\n",
    "            else:\n",
    "                OBV.append(OBV[-1])\n",
    "\n",
    "        df['OBV'] = OBV\n",
    "        df['OBV_EMA'] = df['OBV'].ewm(com=20).mean()\n",
    "\n",
    "        buy_signal_price = buy_sell(df, 'OBV', 'OBV_EMA')\n",
    "        df['Buy_Signal_Price'] = buy_signal_price\n",
    "\n",
    "        result.append(df)                 \n",
    "\n",
    "    output = pd.concat(result, axis=0)\n",
    "\n",
    "    return output"
   ]
  },
  {
   "cell_type": "code",
   "execution_count": 6,
   "metadata": {},
   "outputs": [],
   "source": [
    "test_x = make_obv(test_x)"
   ]
  },
  {
   "cell_type": "code",
   "execution_count": 7,
   "metadata": {},
   "outputs": [],
   "source": [
    "TEST_SAMPLE_ID_LIST = test_x[\"sample_id\"].unique().tolist()"
   ]
  },
  {
   "cell_type": "code",
   "execution_count": 8,
   "metadata": {},
   "outputs": [],
   "source": [
    "def get_OBV(df,sample_id):    \n",
    "    return df[df[\"sample_id\"] == sample_id]['OBV'].values\n",
    "def get_OBV_EMA(df,sample_id):\n",
    "    return df[df[\"sample_id\"] == sample_id]['OBV_EMA'].values"
   ]
  },
  {
   "cell_type": "code",
   "execution_count": 9,
   "metadata": {},
   "outputs": [],
   "source": [
    "# AIC 값이 최소인 p,d,q 값 직접 구하기\n",
    "def model_fit(df, sample_id_list):\n",
    "    result = []\n",
    "\n",
    "    for sample_id in tqdm(sample_id_list):\n",
    "\n",
    "        obv = get_OBV(df, sample_id)\n",
    "        obv_ema = get_OBV_EMA(df, sample_id)\n",
    "\n",
    "        # 2. ARIMA\n",
    "        # 1) 모델 정의\n",
    "        ARIMA_MODEL = {}\n",
    "        ARIMA_MODEL_FIT = {}\n",
    "\n",
    "        # 2) AR 모델 적용\n",
    "        try:\n",
    "            ARIMA_MODEL = ARIMA(obv, order = (5,1,1))\n",
    "            ARIMA_MODEL_FIT = ARIMA_MODEL.fit(trend = 'nc', full_output = True, disp = True)\n",
    "\n",
    "        # 3) 수렴하지 않을 경우 p d q 를 1, 1, 0으로 사용\n",
    "        except:\n",
    "            ARIMA_MODEL = ARIMA(obv, order = (4,1,0))\n",
    "            ARIMA_MODEL_FIT = ARIMA_MODEL.fit(trend = 'nc', full_output = True, disp = True)\n",
    "\n",
    "        # 4) ARIMA 예측\n",
    "        ARIMA_FORECAST  = ARIMA_MODEL_FIT.predict(1,120, typ='levels')\n",
    "\n",
    "        # 3. 데이처 처리\n",
    "        # 1) 최대 부분인 인덱스를 찾는데 해당 시점에 매도를 진행합니다.\n",
    "        sell_time = np.argmax(ARIMA_FORECAST)\n",
    "\n",
    "        # 2) 최대값을 찾습니다.\n",
    "        max_val = np.max(ARIMA_FORECAST)\n",
    "\n",
    "        obv_last_val = obv[1379]\n",
    "        obv_ema_last_val = obv_ema[1379]\n",
    "\n",
    "        # 4. 투자 전략\n",
    "        buy_quantity = 0\n",
    "\n",
    "        # 1) typical_price가 1.1 이상이면 투자합니다.\n",
    "        if max_val / obv_last_val > 1.4:\n",
    "            buy_quantity = 1\n",
    "        if obv_ema_last_val < obv_ema_last_val:\n",
    "            buy_quantity = 1\n",
    "\n",
    "        # 5. 결과\n",
    "        result_list = [\n",
    "                        sample_id,\n",
    "                        buy_quantity,\n",
    "                        sell_time,\n",
    "                    ]\n",
    "\n",
    "        result.append(result_list)\n",
    "\n",
    "    return result"
   ]
  },
  {
   "cell_type": "code",
   "execution_count": 10,
   "metadata": {},
   "outputs": [
    {
     "output_type": "stream",
     "name": "stderr",
     "text": [
      "100%|██████████| 760/760 [06:04<00:00,  2.08it/s]\n"
     ]
    }
   ],
   "source": [
    "result = model_fit(test_x, TEST_SAMPLE_ID_LIST)"
   ]
  },
  {
   "cell_type": "code",
   "execution_count": 11,
   "metadata": {},
   "outputs": [],
   "source": [
    "submit_columns = [\n",
    "                  \"sample_id\", \n",
    "                  \"buy_quantity\", \n",
    "                  \"sell_time\",\n",
    "                  ]\n",
    "\n",
    "submit = pd.DataFrame(data=result, columns=submit_columns)"
   ]
  },
  {
   "cell_type": "code",
   "execution_count": 12,
   "metadata": {},
   "outputs": [
    {
     "output_type": "execute_result",
     "data": {
      "text/plain": [
       "512"
      ]
     },
     "metadata": {},
     "execution_count": 12
    }
   ],
   "source": [
    "submit[submit[\"buy_quantity\"] == 1].shape[0]  "
   ]
  },
  {
   "cell_type": "code",
   "execution_count": 14,
   "metadata": {},
   "outputs": [],
   "source": [
    "FILE_NAME = \"/0617_AUTO_ARIMA_OBV__MAXVAL_18_SUBMIT.csv\""
   ]
  },
  {
   "cell_type": "code",
   "execution_count": 15,
   "metadata": {},
   "outputs": [],
   "source": [
    "SUBMIT_PATH = \"./data\"\n",
    "RESULT_PATH = SUBMIT_PATH + FILE_NAME\n",
    "\n",
    "submit.to_csv(RESULT_PATH, index=False)"
   ]
  }
 ]
}