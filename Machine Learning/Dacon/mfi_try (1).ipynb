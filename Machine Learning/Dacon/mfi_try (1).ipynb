{
 "cells": [
  {
   "cell_type": "code",
   "execution_count": 1,
   "metadata": {
    "colab": {
     "base_uri": "https://localhost:8080/"
    },
    "executionInfo": {
     "elapsed": 11745,
     "status": "ok",
     "timestamp": 1623920941981,
     "user": {
      "displayName": "설재홍",
      "photoUrl": "",
      "userId": "16670227453560144381"
     },
     "user_tz": -540
    },
    "id": "OxtJrLIjzsoZ",
    "outputId": "b427ba72-949b-4b2a-ecfd-dbe03d6d3951"
   },
   "outputs": [
    {
     "name": "stdout",
     "output_type": "stream",
     "text": [
      "Requirement already satisfied: statsmodels==0.12.2 in c:\\users\\user1\\appdata\\local\\programs\\python\\python38\\lib\\site-packages (0.12.2)\n",
      "Requirement already satisfied: numpy>=1.15 in c:\\users\\user1\\appdata\\local\\programs\\python\\python38\\lib\\site-packages (from statsmodels==0.12.2) (1.20.2)\n",
      "Requirement already satisfied: pandas>=0.21 in c:\\users\\user1\\appdata\\local\\programs\\python\\python38\\lib\\site-packages (from statsmodels==0.12.2) (1.2.4)\n",
      "Requirement already satisfied: patsy>=0.5 in c:\\users\\user1\\appdata\\local\\programs\\python\\python38\\lib\\site-packages (from statsmodels==0.12.2) (0.5.1)\n",
      "Requirement already satisfied: scipy>=1.1 in c:\\users\\user1\\appdata\\local\\programs\\python\\python38\\lib\\site-packages (from statsmodels==0.12.2) (1.6.3)\n",
      "Requirement already satisfied: python-dateutil>=2.7.3 in c:\\users\\user1\\appdata\\local\\programs\\python\\python38\\lib\\site-packages (from pandas>=0.21->statsmodels==0.12.2) (2.8.1)\n",
      "Requirement already satisfied: pytz>=2017.3 in c:\\users\\user1\\appdata\\local\\programs\\python\\python38\\lib\\site-packages (from pandas>=0.21->statsmodels==0.12.2) (2021.1)\n",
      "Requirement already satisfied: six in c:\\users\\user1\\appdata\\local\\programs\\python\\python38\\lib\\site-packages (from patsy>=0.5->statsmodels==0.12.2) (1.15.0)\n"
     ]
    }
   ],
   "source": [
    "!pip install statsmodels==0.12.2"
   ]
  },
  {
   "cell_type": "code",
   "execution_count": 3,
   "metadata": {
    "executionInfo": {
     "elapsed": 428,
     "status": "ok",
     "timestamp": 1623922033691,
     "user": {
      "displayName": "설재홍",
      "photoUrl": "",
      "userId": "16670227453560144381"
     },
     "user_tz": -540
    },
    "id": "2mpjtdrxztIk"
   },
   "outputs": [],
   "source": [
    "# 1. 기본\n",
    "# 데이터를 다루기 위한 pandas와 numpy를 import 해주었습니다.\n",
    "import pandas as pd\n",
    "import numpy as np\n",
    "\n",
    "\n",
    "# 2. 시각화\n",
    "import matplotlib.pyplot as plt\n",
    "%matplotlib inline\n",
    "import seaborn as sns\n",
    "\n",
    "\n",
    "# 3. 유틸\n",
    "# tqdm 패키지는 반복문에 대해 얼마나 진척되었는지를 가시적으로 확인할 수 있도록 도와줍니다.\n",
    "# https://github.com/tqdm/tqdm 사용법은 정말 간단합니다.\n",
    "from tqdm.auto import tqdm\n",
    "\n",
    "\n",
    "# 4. 설정\n",
    "# 경고가 나와서, 출력이 많아지지 않기 위해 ignore를 설정해주었습니다.\n",
    "import warnings\n",
    "warnings.filterwarnings('ignore')\n",
    "\n",
    "\n",
    "# 5. stats models\n",
    "# 시계열 모델을 위한 ARIMA를 임포트 해주었습니다.\n",
    "from statsmodels.tsa.arima_model import ARIMA\n",
    "\n",
    "\n",
    "import itertools"
   ]
  },
  {
   "cell_type": "code",
   "execution_count": 5,
   "metadata": {
    "executionInfo": {
     "elapsed": 4039,
     "status": "ok",
     "timestamp": 1623921000571,
     "user": {
      "displayName": "설재홍",
      "photoUrl": "",
      "userId": "16670227453560144381"
     },
     "user_tz": -540
    },
    "id": "Jx7INzFCzw0C"
   },
   "outputs": [],
   "source": [
    "# train_x = pd.read_csv(DATA_PATH  + \"/train_x_df.csv\")\n",
    "# train_y = pd.read_csv(DATA_PATH  + \"/train_y_df.csv\")\n",
    "# test_x = pd.read_csv(DATA_PATH  + \"/test_x_df.csv\")\n",
    "# test_x = pd.read_csv(DATA_PATH  + \"/small_test.csv\")\n",
    "test_x = pd.read_csv('test_x_df.csv')"
   ]
  },
  {
   "cell_type": "code",
   "execution_count": 6,
   "metadata": {
    "executionInfo": {
     "elapsed": 6,
     "status": "ok",
     "timestamp": 1623921001807,
     "user": {
      "displayName": "설재홍",
      "photoUrl": "",
      "userId": "16670227453560144381"
     },
     "user_tz": -540
    },
    "id": "LuCMVNcDz2sF"
   },
   "outputs": [],
   "source": [
    "def make_mfi(my_df):\n",
    "    period = 14\n",
    "    result = []\n",
    "\n",
    "    for sample_id in my_df['sample_id'].unique().tolist():\n",
    "      df = my_df[my_df['sample_id'] == sample_id]\n",
    "\n",
    "      df['typical_price'] = (df['close'] + df['high'] + df['low']) / 3\n",
    "      df['money_flow'] = df['typical_price'] * df['volume']\n",
    "      df['price_diff'] = df.groupby(['sample_id'])['typical_price'].diff(1).shift(-1)\n",
    "      df['pf'] = np.where(df['price_diff'] > 0, df['money_flow'], 0)\n",
    "      df['nf'] = np.where(df['price_diff'] < 0, df['money_flow'], 0)\n",
    "\n",
    "      # 상승분의 14일 평균을 구해줍니다.\n",
    "      # 하락분의 14일 평균을 구해줍니다.\n",
    "      df[\"pmf\"] = df[\"pf\"].rolling(window=period, min_periods=period).sum()\n",
    "      df[\"nmf\"] = df[\"nf\"].rolling(window=period, min_periods=period).sum()\n",
    "\n",
    "      MFI = df['pmf'] / (df['pmf'] + df['nmf'])\n",
    "      df['mfi'] = MFI\n",
    "      df['mfi'] = df['mfi'].shift(1)\n",
    "\n",
    "      result.append(df)\n",
    "      \n",
    "    output = pd.concat(result, axis=0)\n",
    "\n",
    "    return output\n",
    "\n",
    "\n",
    "      # test_x.loc[test_x['sample_id'] == sample_id, 'typical_price'] = (df['close'] + df['high'] + df['low']) / 3\n",
    "      # test_x.loc[test_x['sample_id'] == sample_id, 'money_flow'] = df['typical_price'] * df['volume']\n",
    "      # test_x.loc[test_x['sample_id'] == sample_id, 'price_diff'] = df.groupby(['sample_id'])['typical_price'].diff(1).shift(-1)\n",
    "      # test_x.loc[test_x['sample_id'] == sample_id, 'pf'] = np.where(df['price_diff'] > 0, df['money_flow'], 0)\n",
    "      # test_x.loc[test_x['sample_id'] == sample_id, 'nf'] = np.where(df['price_diff'] < 0, df['money_flow'], 0)\n",
    "\n",
    "      # df = test_x[test_x['sample_id'] == sample_id]\n",
    "      # print(MFI)"
   ]
  },
  {
   "cell_type": "code",
   "execution_count": 7,
   "metadata": {
    "executionInfo": {
     "elapsed": 9098,
     "status": "ok",
     "timestamp": 1623921013473,
     "user": {
      "displayName": "설재홍",
      "photoUrl": "",
      "userId": "16670227453560144381"
     },
     "user_tz": -540
    },
    "id": "m8RgMtmKyRIm"
   },
   "outputs": [],
   "source": [
    "test_x = make_mfi(test_x)\n",
    "test_x = test_x.fillna(0)"
   ]
  },
  {
   "cell_type": "code",
   "execution_count": 8,
   "metadata": {
    "id": "6rYBgVxtzKvg"
   },
   "outputs": [
    {
     "data": {
      "text/html": [
       "<div>\n",
       "<style scoped>\n",
       "    .dataframe tbody tr th:only-of-type {\n",
       "        vertical-align: middle;\n",
       "    }\n",
       "\n",
       "    .dataframe tbody tr th {\n",
       "        vertical-align: top;\n",
       "    }\n",
       "\n",
       "    .dataframe thead th {\n",
       "        text-align: right;\n",
       "    }\n",
       "</style>\n",
       "<table border=\"1\" class=\"dataframe\">\n",
       "  <thead>\n",
       "    <tr style=\"text-align: right;\">\n",
       "      <th></th>\n",
       "      <th>sample_id</th>\n",
       "      <th>time</th>\n",
       "      <th>coin_index</th>\n",
       "      <th>open</th>\n",
       "      <th>high</th>\n",
       "      <th>low</th>\n",
       "      <th>close</th>\n",
       "      <th>volume</th>\n",
       "      <th>quote_av</th>\n",
       "      <th>trades</th>\n",
       "      <th>tb_base_av</th>\n",
       "      <th>tb_quote_av</th>\n",
       "      <th>typical_price</th>\n",
       "      <th>money_flow</th>\n",
       "      <th>price_diff</th>\n",
       "      <th>pf</th>\n",
       "      <th>nf</th>\n",
       "      <th>pmf</th>\n",
       "      <th>nmf</th>\n",
       "      <th>mfi</th>\n",
       "    </tr>\n",
       "  </thead>\n",
       "  <tbody>\n",
       "    <tr>\n",
       "      <th>0</th>\n",
       "      <td>7929</td>\n",
       "      <td>0</td>\n",
       "      <td>1</td>\n",
       "      <td>0.941549</td>\n",
       "      <td>0.941773</td>\n",
       "      <td>0.940431</td>\n",
       "      <td>0.941176</td>\n",
       "      <td>0.169500</td>\n",
       "      <td>85.595390</td>\n",
       "      <td>0.089465</td>\n",
       "      <td>0.108427</td>\n",
       "      <td>54.745537</td>\n",
       "      <td>0.941127</td>\n",
       "      <td>0.159521</td>\n",
       "      <td>-0.000155</td>\n",
       "      <td>0.00000</td>\n",
       "      <td>0.159521</td>\n",
       "      <td>0.000000</td>\n",
       "      <td>0.000000</td>\n",
       "      <td>0.000000</td>\n",
       "    </tr>\n",
       "    <tr>\n",
       "      <th>1</th>\n",
       "      <td>7929</td>\n",
       "      <td>1</td>\n",
       "      <td>1</td>\n",
       "      <td>0.941586</td>\n",
       "      <td>0.941736</td>\n",
       "      <td>0.940282</td>\n",
       "      <td>0.940897</td>\n",
       "      <td>0.237560</td>\n",
       "      <td>119.955322</td>\n",
       "      <td>0.119287</td>\n",
       "      <td>0.105256</td>\n",
       "      <td>53.145061</td>\n",
       "      <td>0.940971</td>\n",
       "      <td>0.223538</td>\n",
       "      <td>-0.000485</td>\n",
       "      <td>0.00000</td>\n",
       "      <td>0.223538</td>\n",
       "      <td>0.000000</td>\n",
       "      <td>0.000000</td>\n",
       "      <td>0.000000</td>\n",
       "    </tr>\n",
       "    <tr>\n",
       "      <th>2</th>\n",
       "      <td>7929</td>\n",
       "      <td>2</td>\n",
       "      <td>1</td>\n",
       "      <td>0.941270</td>\n",
       "      <td>0.941586</td>\n",
       "      <td>0.938940</td>\n",
       "      <td>0.940934</td>\n",
       "      <td>0.231588</td>\n",
       "      <td>116.848953</td>\n",
       "      <td>0.149109</td>\n",
       "      <td>0.163196</td>\n",
       "      <td>82.363953</td>\n",
       "      <td>0.940487</td>\n",
       "      <td>0.217805</td>\n",
       "      <td>-0.000242</td>\n",
       "      <td>0.00000</td>\n",
       "      <td>0.217805</td>\n",
       "      <td>0.000000</td>\n",
       "      <td>0.000000</td>\n",
       "      <td>0.000000</td>\n",
       "    </tr>\n",
       "    <tr>\n",
       "      <th>3</th>\n",
       "      <td>7929</td>\n",
       "      <td>3</td>\n",
       "      <td>1</td>\n",
       "      <td>0.940971</td>\n",
       "      <td>0.941363</td>\n",
       "      <td>0.939052</td>\n",
       "      <td>0.940319</td>\n",
       "      <td>0.238199</td>\n",
       "      <td>120.162766</td>\n",
       "      <td>0.201297</td>\n",
       "      <td>0.157981</td>\n",
       "      <td>79.687485</td>\n",
       "      <td>0.940244</td>\n",
       "      <td>0.223965</td>\n",
       "      <td>-0.000168</td>\n",
       "      <td>0.00000</td>\n",
       "      <td>0.223965</td>\n",
       "      <td>0.000000</td>\n",
       "      <td>0.000000</td>\n",
       "      <td>0.000000</td>\n",
       "    </tr>\n",
       "    <tr>\n",
       "      <th>4</th>\n",
       "      <td>7929</td>\n",
       "      <td>4</td>\n",
       "      <td>1</td>\n",
       "      <td>0.940077</td>\n",
       "      <td>0.940561</td>\n",
       "      <td>0.939760</td>\n",
       "      <td>0.939909</td>\n",
       "      <td>0.082302</td>\n",
       "      <td>41.511501</td>\n",
       "      <td>0.055916</td>\n",
       "      <td>0.009733</td>\n",
       "      <td>4.908966</td>\n",
       "      <td>0.940077</td>\n",
       "      <td>0.077370</td>\n",
       "      <td>0.000801</td>\n",
       "      <td>0.07737</td>\n",
       "      <td>0.000000</td>\n",
       "      <td>0.000000</td>\n",
       "      <td>0.000000</td>\n",
       "      <td>0.000000</td>\n",
       "    </tr>\n",
       "    <tr>\n",
       "      <th>...</th>\n",
       "      <td>...</td>\n",
       "      <td>...</td>\n",
       "      <td>...</td>\n",
       "      <td>...</td>\n",
       "      <td>...</td>\n",
       "      <td>...</td>\n",
       "      <td>...</td>\n",
       "      <td>...</td>\n",
       "      <td>...</td>\n",
       "      <td>...</td>\n",
       "      <td>...</td>\n",
       "      <td>...</td>\n",
       "      <td>...</td>\n",
       "      <td>...</td>\n",
       "      <td>...</td>\n",
       "      <td>...</td>\n",
       "      <td>...</td>\n",
       "      <td>...</td>\n",
       "      <td>...</td>\n",
       "      <td>...</td>\n",
       "    </tr>\n",
       "    <tr>\n",
       "      <th>1048795</th>\n",
       "      <td>8688</td>\n",
       "      <td>1375</td>\n",
       "      <td>5</td>\n",
       "      <td>1.005905</td>\n",
       "      <td>1.007405</td>\n",
       "      <td>1.005392</td>\n",
       "      <td>1.006122</td>\n",
       "      <td>32184.292969</td>\n",
       "      <td>23957.617188</td>\n",
       "      <td>66.215317</td>\n",
       "      <td>4388.184082</td>\n",
       "      <td>3269.062256</td>\n",
       "      <td>1.006306</td>\n",
       "      <td>32387.253916</td>\n",
       "      <td>-0.001239</td>\n",
       "      <td>0.00000</td>\n",
       "      <td>32387.253916</td>\n",
       "      <td>815101.896991</td>\n",
       "      <td>441397.594525</td>\n",
       "      <td>0.649240</td>\n",
       "    </tr>\n",
       "    <tr>\n",
       "      <th>1048796</th>\n",
       "      <td>8688</td>\n",
       "      <td>1376</td>\n",
       "      <td>5</td>\n",
       "      <td>1.006243</td>\n",
       "      <td>1.006554</td>\n",
       "      <td>1.004040</td>\n",
       "      <td>1.004608</td>\n",
       "      <td>46183.425781</td>\n",
       "      <td>34342.394531</td>\n",
       "      <td>93.241982</td>\n",
       "      <td>8526.371094</td>\n",
       "      <td>6343.348145</td>\n",
       "      <td>1.005067</td>\n",
       "      <td>46417.456964</td>\n",
       "      <td>-0.001396</td>\n",
       "      <td>0.00000</td>\n",
       "      <td>46417.456964</td>\n",
       "      <td>815101.896991</td>\n",
       "      <td>380956.938350</td>\n",
       "      <td>0.648708</td>\n",
       "    </tr>\n",
       "    <tr>\n",
       "      <th>1048797</th>\n",
       "      <td>8688</td>\n",
       "      <td>1377</td>\n",
       "      <td>5</td>\n",
       "      <td>1.004608</td>\n",
       "      <td>1.005284</td>\n",
       "      <td>1.002865</td>\n",
       "      <td>1.002865</td>\n",
       "      <td>55310.468750</td>\n",
       "      <td>41101.046875</td>\n",
       "      <td>97.295982</td>\n",
       "      <td>16837.339844</td>\n",
       "      <td>12520.099609</td>\n",
       "      <td>1.003671</td>\n",
       "      <td>55513.516250</td>\n",
       "      <td>-0.002680</td>\n",
       "      <td>0.00000</td>\n",
       "      <td>55513.516250</td>\n",
       "      <td>815101.896991</td>\n",
       "      <td>297428.568114</td>\n",
       "      <td>0.681490</td>\n",
       "    </tr>\n",
       "    <tr>\n",
       "      <th>1048798</th>\n",
       "      <td>8688</td>\n",
       "      <td>1378</td>\n",
       "      <td>5</td>\n",
       "      <td>1.002865</td>\n",
       "      <td>1.002905</td>\n",
       "      <td>1.000013</td>\n",
       "      <td>1.000054</td>\n",
       "      <td>114685.742188</td>\n",
       "      <td>85007.203125</td>\n",
       "      <td>127.025307</td>\n",
       "      <td>35383.035156</td>\n",
       "      <td>26229.859375</td>\n",
       "      <td>1.000991</td>\n",
       "      <td>114799.389690</td>\n",
       "      <td>-0.002676</td>\n",
       "      <td>0.00000</td>\n",
       "      <td>114799.389690</td>\n",
       "      <td>702086.136427</td>\n",
       "      <td>412227.957804</td>\n",
       "      <td>0.732656</td>\n",
       "    </tr>\n",
       "    <tr>\n",
       "      <th>1048799</th>\n",
       "      <td>8688</td>\n",
       "      <td>1379</td>\n",
       "      <td>5</td>\n",
       "      <td>1.000000</td>\n",
       "      <td>1.000149</td>\n",
       "      <td>0.996838</td>\n",
       "      <td>0.997959</td>\n",
       "      <td>71935.781250</td>\n",
       "      <td>53143.234375</td>\n",
       "      <td>143.241302</td>\n",
       "      <td>35736.679688</td>\n",
       "      <td>26402.781250</td>\n",
       "      <td>0.998315</td>\n",
       "      <td>71814.592079</td>\n",
       "      <td>0.000000</td>\n",
       "      <td>0.00000</td>\n",
       "      <td>0.000000</td>\n",
       "      <td>702086.136427</td>\n",
       "      <td>345913.494189</td>\n",
       "      <td>0.630061</td>\n",
       "    </tr>\n",
       "  </tbody>\n",
       "</table>\n",
       "<p>1048800 rows × 20 columns</p>\n",
       "</div>"
      ],
      "text/plain": [
       "         sample_id  time  coin_index      open      high       low     close  \\\n",
       "0             7929     0           1  0.941549  0.941773  0.940431  0.941176   \n",
       "1             7929     1           1  0.941586  0.941736  0.940282  0.940897   \n",
       "2             7929     2           1  0.941270  0.941586  0.938940  0.940934   \n",
       "3             7929     3           1  0.940971  0.941363  0.939052  0.940319   \n",
       "4             7929     4           1  0.940077  0.940561  0.939760  0.939909   \n",
       "...            ...   ...         ...       ...       ...       ...       ...   \n",
       "1048795       8688  1375           5  1.005905  1.007405  1.005392  1.006122   \n",
       "1048796       8688  1376           5  1.006243  1.006554  1.004040  1.004608   \n",
       "1048797       8688  1377           5  1.004608  1.005284  1.002865  1.002865   \n",
       "1048798       8688  1378           5  1.002865  1.002905  1.000013  1.000054   \n",
       "1048799       8688  1379           5  1.000000  1.000149  0.996838  0.997959   \n",
       "\n",
       "                volume      quote_av      trades    tb_base_av   tb_quote_av  \\\n",
       "0             0.169500     85.595390    0.089465      0.108427     54.745537   \n",
       "1             0.237560    119.955322    0.119287      0.105256     53.145061   \n",
       "2             0.231588    116.848953    0.149109      0.163196     82.363953   \n",
       "3             0.238199    120.162766    0.201297      0.157981     79.687485   \n",
       "4             0.082302     41.511501    0.055916      0.009733      4.908966   \n",
       "...                ...           ...         ...           ...           ...   \n",
       "1048795   32184.292969  23957.617188   66.215317   4388.184082   3269.062256   \n",
       "1048796   46183.425781  34342.394531   93.241982   8526.371094   6343.348145   \n",
       "1048797   55310.468750  41101.046875   97.295982  16837.339844  12520.099609   \n",
       "1048798  114685.742188  85007.203125  127.025307  35383.035156  26229.859375   \n",
       "1048799   71935.781250  53143.234375  143.241302  35736.679688  26402.781250   \n",
       "\n",
       "         typical_price     money_flow  price_diff       pf             nf  \\\n",
       "0             0.941127       0.159521   -0.000155  0.00000       0.159521   \n",
       "1             0.940971       0.223538   -0.000485  0.00000       0.223538   \n",
       "2             0.940487       0.217805   -0.000242  0.00000       0.217805   \n",
       "3             0.940244       0.223965   -0.000168  0.00000       0.223965   \n",
       "4             0.940077       0.077370    0.000801  0.07737       0.000000   \n",
       "...                ...            ...         ...      ...            ...   \n",
       "1048795       1.006306   32387.253916   -0.001239  0.00000   32387.253916   \n",
       "1048796       1.005067   46417.456964   -0.001396  0.00000   46417.456964   \n",
       "1048797       1.003671   55513.516250   -0.002680  0.00000   55513.516250   \n",
       "1048798       1.000991  114799.389690   -0.002676  0.00000  114799.389690   \n",
       "1048799       0.998315   71814.592079    0.000000  0.00000       0.000000   \n",
       "\n",
       "                   pmf            nmf       mfi  \n",
       "0             0.000000       0.000000  0.000000  \n",
       "1             0.000000       0.000000  0.000000  \n",
       "2             0.000000       0.000000  0.000000  \n",
       "3             0.000000       0.000000  0.000000  \n",
       "4             0.000000       0.000000  0.000000  \n",
       "...                ...            ...       ...  \n",
       "1048795  815101.896991  441397.594525  0.649240  \n",
       "1048796  815101.896991  380956.938350  0.648708  \n",
       "1048797  815101.896991  297428.568114  0.681490  \n",
       "1048798  702086.136427  412227.957804  0.732656  \n",
       "1048799  702086.136427  345913.494189  0.630061  \n",
       "\n",
       "[1048800 rows x 20 columns]"
      ]
     },
     "execution_count": 8,
     "metadata": {},
     "output_type": "execute_result"
    }
   ],
   "source": [
    "test_x"
   ]
  },
  {
   "cell_type": "code",
   "execution_count": 9,
   "metadata": {
    "executionInfo": {
     "elapsed": 370,
     "status": "ok",
     "timestamp": 1623921015398,
     "user": {
      "displayName": "설재홍",
      "photoUrl": "",
      "userId": "16670227453560144381"
     },
     "user_tz": -540
    },
    "id": "9yV441c-DXFK"
   },
   "outputs": [],
   "source": [
    "# TRAIN_SAMPLE_ID_LIST = train_x[\"sample_id\"].unique().tolist()\n",
    "TEST_SAMPLE_ID_LIST = test_x[\"sample_id\"].unique().tolist()"
   ]
  },
  {
   "cell_type": "code",
   "execution_count": 10,
   "metadata": {
    "executionInfo": {
     "elapsed": 378,
     "status": "ok",
     "timestamp": 1623921017770,
     "user": {
      "displayName": "설재홍",
      "photoUrl": "",
      "userId": "16670227453560144381"
     },
     "user_tz": -540
    },
    "id": "29a_WrE-Gvr1"
   },
   "outputs": [],
   "source": [
    "def get_typical_price(df,sample_id):    \n",
    "    return df[df[\"sample_id\"] == sample_id]['typical_price'].values"
   ]
  },
  {
   "cell_type": "code",
   "execution_count": 11,
   "metadata": {
    "executionInfo": {
     "elapsed": 2,
     "status": "ok",
     "timestamp": 1623921018668,
     "user": {
      "displayName": "설재홍",
      "photoUrl": "",
      "userId": "16670227453560144381"
     },
     "user_tz": -540
    },
    "id": "95NdHMqcdveF"
   },
   "outputs": [],
   "source": [
    "def get_mfi(df,sample_id):\n",
    "  return df[df[\"sample_id\"] == sample_id]['mfi'].values"
   ]
  },
  {
   "cell_type": "code",
   "execution_count": 14,
   "metadata": {
    "executionInfo": {
     "elapsed": 398,
     "status": "ok",
     "timestamp": 1623923321794,
     "user": {
      "displayName": "설재홍",
      "photoUrl": "",
      "userId": "16670227453560144381"
     },
     "user_tz": -540
    },
    "id": "FcT9rNc7Glr4"
   },
   "outputs": [],
   "source": [
    "# ARIMA의 (p,d,q) 값이 (4,0,1)에서 수렴하지 않을 경우\n",
    "# (1,1,0)로 변경하여 다시 학습 및 추론\n",
    "# result = np.zeros([300,120])\n",
    "def model_fit(df, sample_id_list):\n",
    "\n",
    "    result = []\n",
    "    for sample_id in tqdm(sample_id_list):\n",
    "      price_x = get_typical_price(df, sample_id)\n",
    "      mfi_series = get_mfi(df, sample_id)\n",
    "\n",
    "      # 2. ARIMA\n",
    "      # 1) 모델 정의\n",
    "      ARIMA_MODEL = {}\n",
    "      ARIMA_MODEL_FIT = {}\n",
    "\n",
    "      # 2) AR 모델 적용\n",
    "      try:\n",
    "        ARIMA_MODEL = ARIMA(price_x, order = (4,0,1))\n",
    "        ARIMA_MODEL_FIT = ARIMA_MODEL.fit(trend = 'nc', full_output = True, disp = True)\n",
    "\n",
    "      # 3) 수렴하지 않을 경우 p d q 를 1, 1, 0으로 사용\n",
    "      except:\n",
    "        # ARIMA_MODEL = ARIMA(price_x, order = (1,1,0))\n",
    "        ARIMA_MODEL = ARIMA(price_x, order = (1,1,0))\n",
    "        ARIMA_MODEL_FIT = ARIMA_MODEL.fit(trend = 'nc', full_output = True, disp = True)\n",
    "\n",
    "      # 4) ARIMA 예측\n",
    "      ARIMA_FORECAST  = ARIMA_MODEL_FIT.predict(1,120, typ='levels')\n",
    "      # result[sample_id,:] = ARIMA_FORECAST\n",
    "\n",
    "      # 3. 데이처 처리\n",
    "      # 1) 최대 부분인 인덱스를 찾는데 해당 시점에 매도를 진행합니다.\n",
    "      sell_time = np.argmax(ARIMA_FORECAST)\n",
    "\n",
    "      # 2) 최대값을 찾습니다.\n",
    "      max_val = np.max(ARIMA_FORECAST)\n",
    "      \n",
    "      mfi_last_val = mfi_series[1379]\n",
    "\n",
    "      # 4. 투자 전략\n",
    "      buy_quantity = 0\n",
    "\n",
    "      # 1) typical_price가 1.15 이상이면 투자합니다.\n",
    "      if  max_val > 1.15:\n",
    "          buy_quantity = 1\n",
    "\n",
    "      # 3) 만약 mfi의 값이 65 보다 크면, 초과매수 상태로 판단하여 투자하지 않습니다.\n",
    "      if 0.3 > mfi_last_val :\n",
    "        buy_quantity = 1\n",
    "      # if mfi_last_val > 0.65 and sell_time < 50:\n",
    "      if mfi_last_val > 0.7:\n",
    "          buy_quantity = 0\n",
    "\n",
    "      # 5. 결과\n",
    "      result_list = [\n",
    "                      sample_id,\n",
    "                      buy_quantity,\n",
    "                      sell_time\n",
    "                    ]\n",
    "\n",
    "      result.append(result_list)\n",
    "\n",
    "      return result"
   ]
  },
  {
   "cell_type": "code",
   "execution_count": 13,
   "metadata": {
    "executionInfo": {
     "elapsed": 376,
     "status": "ok",
     "timestamp": 1623923737904,
     "user": {
      "displayName": "설재홍",
      "photoUrl": "",
      "userId": "16670227453560144381"
     },
     "user_tz": -540
    },
    "id": "1DYmKPijTNyi"
   },
   "outputs": [],
   "source": [
    "# ARIMA의 (p,d,q) 값이 (4,0,1)에서 수렴하지 않을 경우\n",
    "# (1,1,0)로 변경하여 다시 학습 및 추론\n",
    "# result = np.zeros([300,120])\n",
    "def find_pdq(df, sample_id_list):\n",
    "    p = range(1,5)\n",
    "    d = range(1,2)\n",
    "    q = range(0,3)\n",
    "    pdq = list(itertools.product(p,d,q))\n",
    "    \n",
    "    aic = []\n",
    "    for sample_id in tqdm(sample_id_list):\n",
    "      for i in pdq:\n",
    "        price_x = get_typical_price(df, sample_id)\n",
    "\n",
    "        # 2. ARIMA\n",
    "        # 1) 모델 정의\n",
    "        ARIMA_MODEL = {}\n",
    "        ARIMA_MODEL_FIT = {}\n",
    "\n",
    "        # 2) AR 모델 적용\n",
    "        try:\n",
    "          ARIMA_MODEL = ARIMA(price_x, order = (i))\n",
    "          ARIMA_MODEL_FIT = ARIMA_MODEL.fit(trend = 'nc', full_output = True, disp = True)\n",
    "\n",
    "        # 3) 수렴하지 않을 경우 p d q 를 1, 1, 0으로 사용\n",
    "        except:\n",
    "          ARIMA_MODEL = ARIMA(price_x, order = (1,1,0))\n",
    "          ARIMA_MODEL_FIT = ARIMA_MODEL.fit(trend = 'nc', full_output = True, disp = True)\n",
    "\n",
    "        # print(f'ARIMA: {i} >> AIC : {round(ARIMA_MODEL_FIT.aic,2)}')\n",
    "        aic.append(round(ARIMA_MODEL_FIT.aic,2))\n",
    "\n",
    "    optimal = [(pdq[i], j) for i,j in enumerate(aic) if j == min(aic)]\n",
    "    return optimal"
   ]
  },
  {
   "cell_type": "code",
   "execution_count": null,
   "metadata": {
    "id": "EMCeoXICZJag"
   },
   "outputs": [],
   "source": [
    "optimal = []\n",
    "for i in TEST_SAMPLE_ID_LIST:\n",
    "    a = test_x[test_x['sample_id'] == i]\n",
    "    sample_id_list = [i]\n",
    "    optimal.append(find_pdq(a,sample_id_list))"
   ]
  },
  {
   "cell_type": "code",
   "execution_count": 16,
   "metadata": {
    "colab": {
     "base_uri": "https://localhost:8080/",
     "height": 49,
     "referenced_widgets": [
      "e2ebd160758b4d30b28d322d2114fe94",
      "3df5b15cf0df46b9b07c36ed87adaa65",
      "64096b115c8d4ce789a2be211ae9165b",
      "8db6f88fa19448beb46c61f55cfb9407",
      "e49d5e85079448d58a66c36453b24ce8",
      "ac9b5a4afa784fda8ace9619c5d80970",
      "b99cecf27d71457bb3c31a1cc96953d8",
      "1b9d9055ef5b4ec98cfae0e3bf49ebd1"
     ]
    },
    "executionInfo": {
     "elapsed": 373,
     "status": "ok",
     "timestamp": 1623923335471,
     "user": {
      "displayName": "설재홍",
      "photoUrl": "",
      "userId": "16670227453560144381"
     },
     "user_tz": -540
    },
    "id": "wCEoVRO1Nw5s",
    "outputId": "20b65139-d417-47dc-9f05-8bcd028a71b3"
   },
   "outputs": [
    {
     "data": {
      "application/vnd.jupyter.widget-view+json": {
       "model_id": "ae8298bc8b5342e99291166895f288a5",
       "version_major": 2,
       "version_minor": 0
      },
      "text/plain": [
       "  0%|          | 0/760 [00:00<?, ?it/s]"
      ]
     },
     "metadata": {},
     "output_type": "display_data"
    }
   ],
   "source": [
    "result = model_fit(test_x,TEST_SAMPLE_ID_LIST )"
   ]
  },
  {
   "cell_type": "code",
   "execution_count": null,
   "metadata": {
    "id": "ez-jmhVsfCYU"
   },
   "outputs": [],
   "source": [
    "# 1. 학습 결과를 데이터 프레임으로 만듭니다.\n",
    "\n",
    "submit_columns = [\n",
    "                  \"sample_id\", \n",
    "                  \"buy_quantity\", \n",
    "                  \"sell_time\"\n",
    "                  ]\n",
    "\n",
    "\n",
    "submit = pd.DataFrame(data=result, columns=submit_columns)"
   ]
  },
  {
   "cell_type": "code",
   "execution_count": null,
   "metadata": {
    "id": "LUEohJzULyRA"
   },
   "outputs": [],
   "source": [
    "submit.head(40)"
   ]
  },
  {
   "cell_type": "code",
   "execution_count": null,
   "metadata": {
    "colab": {
     "base_uri": "https://localhost:8080/"
    },
    "executionInfo": {
     "elapsed": 256,
     "status": "ok",
     "timestamp": 1623848555005,
     "user": {
      "displayName": "설재홍",
      "photoUrl": "",
      "userId": "16670227453560144381"
     },
     "user_tz": -540
    },
    "id": "4doar9Lqfwsv",
    "outputId": "376fa925-a989-4385-f018-6dcc93ecc205"
   },
   "outputs": [
    {
     "data": {
      "text/plain": [
       "113"
      ]
     },
     "execution_count": 24,
     "metadata": {
      "tags": []
     },
     "output_type": "execute_result"
    }
   ],
   "source": [
    "# 3. 투자 개수 확인\n",
    "\n",
    "submit[submit[\"buy_quantity\"] == 1].shape[0]  "
   ]
  },
  {
   "cell_type": "code",
   "execution_count": null,
   "metadata": {
    "colab": {
     "base_uri": "https://localhost:8080/"
    },
    "executionInfo": {
     "elapsed": 265,
     "status": "ok",
     "timestamp": 1623848558382,
     "user": {
      "displayName": "설재홍",
      "photoUrl": "",
      "userId": "16670227453560144381"
     },
     "user_tz": -540
    },
    "id": "o2SdTpmaf7KO",
    "outputId": "d0412613-29ec-4eb7-d0cc-577387523099"
   },
   "outputs": [
    {
     "data": {
      "text/plain": [
       "0    647\n",
       "1    113\n",
       "Name: buy_quantity, dtype: int64"
      ]
     },
     "execution_count": 25,
     "metadata": {
      "tags": []
     },
     "output_type": "execute_result"
    }
   ],
   "source": [
    "submit.buy_quantity.value_counts()"
   ]
  },
  {
   "cell_type": "code",
   "execution_count": null,
   "metadata": {
    "colab": {
     "base_uri": "https://localhost:8080/"
    },
    "executionInfo": {
     "elapsed": 248,
     "status": "ok",
     "timestamp": 1623846268611,
     "user": {
      "displayName": "설재홍",
      "photoUrl": "",
      "userId": "16670227453560144381"
     },
     "user_tz": -540
    },
    "id": "PDA_vssGfzOv",
    "outputId": "b6ade199-a520-4920-a1be-4de73cc06045"
   },
   "outputs": [
    {
     "data": {
      "text/plain": [
       "54"
      ]
     },
     "execution_count": 15,
     "metadata": {
      "tags": []
     },
     "output_type": "execute_result"
    }
   ],
   "source": [
    "# 4. sell_time 50미만에서 구매하는 개수 확인\n",
    "cond1 = (submit[\"buy_quantity\"] == 1)\n",
    "cond2 = (submit[\"sell_time\"] < 50)\n",
    "\n",
    "submit[cond1 & cond2].shape[0]"
   ]
  },
  {
   "cell_type": "code",
   "execution_count": null,
   "metadata": {
    "id": "453YrhDvgDBc"
   },
   "outputs": [],
   "source": [
    "def df2d_to_answer(df_2d):\n",
    "    # valid_y_df로부터\n",
    "    # open 가격 정보가 포함된\n",
    "    # [샘플 수, 120분] 크기의 \n",
    "    # 2차원 array를 반환하는 함수\n",
    "    feature_size = df_2d.iloc[:,2:].shape[1]\n",
    "    time_size = len(df_2d.time.value_counts())\n",
    "    sample_size = len(df_2d.sample_id.value_counts())\n",
    "    sample_index = df_2d.sample_id.value_counts().index\n",
    "    array_2d = df_2d.open.values.reshape([sample_size, time_size])\n",
    "    sample_index = list(sample_index)\n",
    "    return array_2d, sample_index\n",
    "\n",
    "\n",
    "def COIN(y_df, submission, df2d_to_answer = df2d_to_answer):\n",
    "    # 2차원 데이터프레임에서 open 시점 데이터만 추출하여 array로 복원\n",
    "    # sample_id정보를 index에 저장\n",
    "    y_array, index = df2d_to_answer(y_df)\n",
    "\n",
    "    \n",
    "    # index 기준으로 submission을 다시 선택\n",
    "    submission = submission.set_index(submission.columns[0])\n",
    "    submission = submission.iloc[index, :]    \n",
    "    \n",
    "    # 초기 투자 비용은 10000 달러\n",
    "    total_momey      = 10000 # dolors\n",
    "    total_momey_list = []\n",
    "    \n",
    "    # 가장 처음 sample_id값\n",
    "    start_index = submission.index[0]\n",
    "    for row_idx in submission.index:\n",
    "        sell_time  = submission.loc[row_idx, 'sell_time']\n",
    "        buy_price  = y_array[row_idx - start_index, 0]\n",
    "        sell_price = y_array[row_idx - start_index, sell_time]\n",
    "        buy_quantity = submission.loc[row_idx, 'buy_quantity'] * total_momey\n",
    "        residual = total_momey - buy_quantity\n",
    "        ratio = sell_price / buy_price\n",
    "        total_momey = buy_quantity * ratio * 0.9995 * 0.9995 + residual        \n",
    "        total_momey_list.append(total_momey)\n",
    "        \n",
    "    return total_momey, total_momey_list"
   ]
  },
  {
   "cell_type": "code",
   "execution_count": null,
   "metadata": {
    "id": "x3hP16F4hw0D"
   },
   "outputs": [],
   "source": [
    "train_y = train_y[train_y['sample_id'] < 2000]"
   ]
  },
  {
   "cell_type": "code",
   "execution_count": null,
   "metadata": {
    "id": "5aNAeuZGgG2D"
   },
   "outputs": [],
   "source": [
    "total_momey, total_momey_list = COIN(train_y,\n",
    "                                     submit)"
   ]
  },
  {
   "cell_type": "code",
   "execution_count": null,
   "metadata": {
    "colab": {
     "base_uri": "https://localhost:8080/"
    },
    "executionInfo": {
     "elapsed": 305,
     "status": "ok",
     "timestamp": 1623846280170,
     "user": {
      "displayName": "설재홍",
      "photoUrl": "",
      "userId": "16670227453560144381"
     },
     "user_tz": -540
    },
    "id": "EcPMYsknh9GM",
    "outputId": "8800b489-2271-484b-fe33-3578d7b33d45"
   },
   "outputs": [
    {
     "name": "stdout",
     "output_type": "stream",
     "text": [
      "9741.54832152288\n",
      "[10000.0, 10000.0, 10000.0, 10000.0, 10000.0, 10000.0, 10000.0, 10000.0, 10000.0, 10001.706023252867, 10001.706023252867, 10001.706023252867, 10001.706023252867, 10001.706023252867, 10001.706023252867, 10001.706023252867, 10001.706023252867, 10001.706023252867, 10001.706023252867, 10001.706023252867, 10001.706023252867, 10001.706023252867, 10001.706023252867, 10001.706023252867, 10001.706023252867, 10001.706023252867, 10001.706023252867, 10001.706023252867, 10001.706023252867, 10001.706023252867, 10001.706023252867, 10001.706023252867, 10001.706023252867, 10001.706023252867, 10001.706023252867, 10001.706023252867, 10001.706023252867, 10001.706023252867, 10001.706023252867, 10001.706023252867, 10001.706023252867, 10001.706023252867, 10001.706023252867, 10001.706023252867, 10001.706023252867, 10001.706023252867, 10001.706023252867, 10001.706023252867, 10001.706023252867, 10133.11705787449, 10133.11705787449, 10133.11705787449, 10133.11705787449, 10133.11705787449, 10133.11705787449, 10133.11705787449, 10133.11705787449, 10133.11705787449, 10126.571668842207, 10126.571668842207, 10126.571668842207, 10126.571668842207, 10126.571668842207, 10126.571668842207, 10126.571668842207, 10126.571668842207, 10126.571668842207, 10126.571668842207, 10126.571668842207, 10126.571668842207, 10126.571668842207, 10126.571668842207, 10126.571668842207, 10126.571668842207, 10126.571668842207, 10126.571668842207, 10126.571668842207, 10126.571668842207, 10126.571668842207, 10126.571668842207, 10126.571668842207, 10126.571668842207, 10126.571668842207, 10126.571668842207, 10087.418615793713, 10178.31284877511, 10178.31284877511, 10178.31284877511, 10178.31284877511, 10178.31284877511, 10178.31284877511, 10178.31284877511, 10178.31284877511, 10178.31284877511, 10178.31284877511, 10178.31284877511, 10178.31284877511, 10178.31284877511, 10178.31284877511, 10178.31284877511, 10178.31284877511, 10178.31284877511, 10178.31284877511, 10178.31284877511, 10178.31284877511, 10178.31284877511, 10206.306043522965, 10206.306043522965, 10206.306043522965, 10206.306043522965, 10206.306043522965, 10206.306043522965, 10206.306043522965, 10206.306043522965, 10206.306043522965, 10206.306043522965, 10206.306043522965, 10206.306043522965, 10206.306043522965, 10206.306043522965, 10206.306043522965, 10206.306043522965, 10206.306043522965, 10206.306043522965, 10206.306043522965, 10206.306043522965, 10206.306043522965, 10206.306043522965, 10206.306043522965, 10206.306043522965, 10206.306043522965, 10206.306043522965, 10206.306043522965, 10206.306043522965, 10206.306043522965, 10206.306043522965, 10206.306043522965, 10206.306043522965, 10206.306043522965, 10206.306043522965, 10206.306043522965, 10206.306043522965, 10206.306043522965, 10206.306043522965, 10206.306043522965, 10206.306043522965, 10206.306043522965, 10206.306043522965, 10206.306043522965, 10206.306043522965, 10206.306043522965, 10206.306043522965, 10206.306043522965, 10206.306043522965, 10206.306043522965, 10206.306043522965, 10206.306043522965, 10206.306043522965, 10206.306043522965, 10165.25975473544, 10165.25975473544, 10165.25975473544, 10165.25975473544, 10165.25975473544, 10165.25975473544, 10165.25975473544, 10165.25975473544, 10146.93248146027, 10146.93248146027, 10146.93248146027, 10146.93248146027, 10146.93248146027, 10146.93248146027, 10146.93248146027, 10146.93248146027, 10146.93248146027, 10146.93248146027, 10166.628661316974, 10166.628661316974, 10166.628661316974, 10166.628661316974, 10166.628661316974, 10166.628661316974, 10166.628661316974, 10166.628661316974, 10166.628661316974, 10166.628661316974, 10166.628661316974, 10166.628661316974, 10166.628661316974, 10166.628661316974, 10166.628661316974, 10166.628661316974, 10166.628661316974, 10166.628661316974, 10166.628661316974, 10166.628661316974, 10166.628661316974, 10166.628661316974, 10166.628661316974, 10166.628661316974, 10166.628661316974, 10166.628661316974, 10166.628661316974, 10166.628661316974, 10166.628661316974, 10166.628661316974, 10166.628661316974, 10166.628661316974, 10166.628661316974, 10166.628661316974, 10166.628661316974, 10166.628661316974, 10166.628661316974, 10166.628661316974, 10166.628661316974, 10166.628661316974, 10166.628661316974, 10166.628661316974, 10166.628661316974, 10377.624831847475, 10377.624831847475, 10377.624831847475, 10377.624831847475, 10377.624831847475, 10377.624831847475, 10377.624831847475, 10377.624831847475, 10377.624831847475, 10377.624831847475, 10377.624831847475, 10377.624831847475, 10377.624831847475, 10377.624831847475, 10377.624831847475, 10377.624831847475, 10377.624831847475, 10377.624831847475, 10319.12458618457, 10313.86807331547, 10313.86807331547, 10313.86807331547, 10313.86807331547, 10313.86807331547, 10313.86807331547, 10313.86807331547, 10313.86807331547, 10313.86807331547, 10313.86807331547, 10313.86807331547, 10313.86807331547, 10313.86807331547, 10313.86807331547, 10313.86807331547, 10313.86807331547, 10313.86807331547, 10313.86807331547, 10313.86807331547, 10313.86807331547, 10313.86807331547, 10313.86807331547, 10313.86807331547, 10313.86807331547, 10313.86807331547, 10313.86807331547, 10313.86807331547, 10313.86807331547, 10313.86807331547, 10313.86807331547, 10313.86807331547, 10313.86807331547, 10313.86807331547, 10313.86807331547, 10313.86807331547, 10313.86807331547, 10313.86807331547, 10313.86807331547, 10313.86807331547, 10428.492031884683, 10428.492031884683, 10428.492031884683, 10428.492031884683, 10428.492031884683, 10428.492031884683, 10428.492031884683, 10428.492031884683, 10428.492031884683, 10428.492031884683, 10428.492031884683, 10428.492031884683, 10428.492031884683, 10428.492031884683, 10428.492031884683, 10540.458890319449, 10540.471563904595, 10540.471563904595, 10540.471563904595, 10540.471563904595, 10463.707780488583, 10463.707780488583, 10463.707780488583, 10463.707780488583, 10463.707780488583, 10463.707780488583, 10463.707780488583, 10463.707780488583, 10463.707780488583, 10463.707780488583, 10463.707780488583, 10463.707780488583, 10463.707780488583, 10463.707780488583, 10463.707780488583, 10463.707780488583, 10463.707780488583, 10463.707780488583, 10463.707780488583, 10463.707780488583, 10463.707780488583, 10463.707780488583, 10475.07186328594, 10475.07186328594, 10475.07186328594, 10475.07186328594, 10475.07186328594, 10475.07186328594, 10475.07186328594, 10475.07186328594, 10475.07186328594, 10475.07186328594, 10475.07186328594, 10475.07186328594, 10475.07186328594, 10475.07186328594, 10204.066476862132, 10204.066476862132, 10204.066476862132, 10204.066476862132, 10204.066476862132, 10204.066476862132, 10204.066476862132, 10204.066476862132, 10204.066476862132, 10204.066476862132, 10204.066476862132, 10204.066476862132, 10215.840297592524, 10215.840297592524, 10215.840297592524, 10215.840297592524, 10215.840297592524, 10215.840297592524, 10215.840297592524, 10215.840297592524, 10215.840297592524, 10215.840297592524, 10215.840297592524, 10215.840297592524, 10215.840297592524, 10215.840297592524, 10215.840297592524, 10215.840297592524, 10215.840297592524, 10215.840297592524, 10215.840297592524, 10215.840297592524, 10215.840297592524, 10215.840297592524, 10215.840297592524, 10215.840297592524, 10215.840297592524, 10215.840297592524, 10215.840297592524, 10215.840297592524, 10215.840297592524, 10215.840297592524, 10215.840297592524, 10215.840297592524, 10215.840297592524, 10215.840297592524, 10215.840297592524, 10215.840297592524, 10215.840297592524, 10215.840297592524, 10215.840297592524, 10215.840297592524, 10215.840297592524, 10215.840297592524, 10215.840297592524, 10215.840297592524, 10215.840297592524, 10215.840297592524, 10215.840297592524, 10215.840297592524, 10215.840297592524, 10215.840297592524, 10215.840297592524, 10215.840297592524, 10215.840297592524, 10215.840297592524, 10215.840297592524, 10215.840297592524, 10215.840297592524, 10215.840297592524, 10215.840297592524, 10215.840297592524, 10215.840297592524, 10215.840297592524, 10215.840297592524, 10177.23409049014, 10177.23409049014, 10177.23409049014, 10177.23409049014, 10071.532571848651, 10071.532571848651, 10071.532571848651, 10071.532571848651, 10281.095252387122, 10281.095252387122, 10281.095252387122, 10281.095252387122, 10281.095252387122, 10281.095252387122, 10281.095252387122, 10281.095252387122, 10281.095252387122, 10281.095252387122, 10281.095252387122, 10281.095252387122, 10281.095252387122, 10281.095252387122, 10281.095252387122, 10281.095252387122, 10281.095252387122, 10281.095252387122, 10281.095252387122, 10281.095252387122, 10281.095252387122, 10281.095252387122, 10281.095252387122, 10281.095252387122, 10281.095252387122, 10281.095252387122, 10281.095252387122, 10281.095252387122, 10281.095252387122, 10281.095252387122, 10281.095252387122, 10281.095252387122, 10281.095252387122, 10281.095252387122, 10281.095252387122, 10281.095252387122, 10281.095252387122, 10281.095252387122, 10281.095252387122, 10281.095252387122, 10263.957777013391, 10263.957777013391, 10263.957777013391, 10263.957777013391, 10263.957777013391, 10222.989137682274, 10222.989137682274, 10222.989137682274, 10222.989137682274, 10222.989137682274, 10222.989137682274, 10222.989137682274, 10222.989137682274, 10222.989137682274, 10222.989137682274, 10222.989137682274, 10222.989137682274, 10222.989137682274, 10251.564075157881, 10251.564075157881, 10251.564075157881, 10251.564075157881, 10251.564075157881, 10251.564075157881, 10251.564075157881, 10251.564075157881, 10251.564075157881, 10251.564075157881, 10251.564075157881, 10251.564075157881, 10251.564075157881, 10251.564075157881, 10251.564075157881, 10251.564075157881, 10251.564075157881, 10251.564075157881, 10251.564075157881, 10251.564075157881, 10251.564075157881, 10251.564075157881, 10251.564075157881, 10251.564075157881, 10251.564075157881, 10251.564075157881, 10251.564075157881, 10218.04801774024, 10218.04801774024, 10218.04801774024, 10218.04801774024, 10218.04801774024, 10218.04801774024, 10218.04801774024, 10218.04801774024, 10218.04801774024, 10218.04801774024, 10218.04801774024, 10218.04801774024, 10218.04801774024, 10218.04801774024, 10218.04801774024, 10218.04801774024, 10218.04801774024, 10218.04801774024, 10218.04801774024, 10218.04801774024, 10218.04801774024, 10218.04801774024, 10218.04801774024, 10218.04801774024, 10218.04801774024, 10218.04801774024, 10222.115455513145, 10205.66425736098, 10205.66425736098, 10205.66425736098, 10205.66425736098, 10205.66425736098, 10205.66425736098, 10205.66425736098, 10205.66425736098, 10205.66425736098, 10205.66425736098, 10205.66425736098, 10205.66425736098, 10205.66425736098, 10205.66425736098, 10205.66425736098, 10205.66425736098, 10228.278734387119, 10228.278734387119, 10228.278734387119, 10228.278734387119, 10228.278734387119, 10228.278734387119, 10228.278734387119, 10228.278734387119, 10228.278734387119, 10228.278734387119, 10228.278734387119, 10228.278734387119, 10228.278734387119, 10228.278734387119, 10228.278734387119, 10228.278734387119, 10228.278734387119, 10228.278734387119, 10228.278734387119, 10228.278734387119, 10228.278734387119, 10228.278734387119, 10228.278734387119, 10228.278734387119, 10228.278734387119, 10228.278734387119, 10228.278734387119, 10228.278734387119, 10228.278734387119, 10116.742282194704, 10116.742282194704, 10116.742282194704, 10116.742282194704, 10116.742282194704, 10116.742282194704, 10116.742282194704, 10116.742282194704, 10116.742282194704, 10116.742282194704, 10116.742282194704, 10116.742282194704, 10116.742282194704, 10116.742282194704, 10116.742282194704, 10116.742282194704, 10116.742282194704, 10116.742282194704, 10116.742282194704, 10116.742282194704, 10116.742282194704, 10116.742282194704, 10116.742282194704, 10116.742282194704, 10116.742282194704, 10116.742282194704, 10116.742282194704, 10116.742282194704, 10116.742282194704, 10116.742282194704, 10116.742282194704, 10116.742282194704, 10116.742282194704, 10116.742282194704, 10116.742282194704, 10116.742282194704, 10116.742282194704, 10116.742282194704, 10116.742282194704, 10116.742282194704, 10116.742282194704, 10116.742282194704, 10116.742282194704, 9789.21722958769, 9789.21722958769, 9789.21722958769, 9789.21722958769, 9789.21722958769, 9789.21722958769, 9754.719002678385, 9754.719002678385, 9754.719002678385, 9754.719002678385, 9754.719002678385, 9754.719002678385, 9754.719002678385, 9754.719002678385, 9754.719002678385, 9754.719002678385, 9754.719002678385, 9754.719002678385, 9754.719002678385, 9754.719002678385, 9754.719002678385, 9754.719002678385, 9754.719002678385, 9754.719002678385, 9754.719002678385, 9754.719002678385, 9754.719002678385, 9754.719002678385, 9754.719002678385, 9754.719002678385, 9754.719002678385, 9754.719002678385, 9754.719002678385, 9754.719002678385, 9986.471264388232, 9986.471264388232, 9986.471264388232, 9986.471264388232, 9986.471264388232, 9986.471264388232, 9986.471264388232, 9986.471264388232, 9986.471264388232, 9986.471264388232, 9986.471264388232, 9986.471264388232, 9986.471264388232, 9986.471264388232, 9986.471264388232, 9986.471264388232, 9986.471264388232, 9986.471264388232, 9986.471264388232, 9986.471264388232, 9986.471264388232, 9986.471264388232, 9986.471264388232, 9986.471264388232, 9986.471264388232, 9986.471264388232, 9986.471264388232, 9986.471264388232, 9986.471264388232, 9986.471264388232, 9986.471264388232, 9986.471264388232, 9986.471264388232, 9986.471264388232, 9986.471264388232, 9986.471264388232, 9986.471264388232, 9986.471264388232, 9986.471264388232, 9986.471264388232, 9986.471264388232, 9986.471264388232, 9986.471264388232, 9986.471264388232, 9986.471264388232, 9986.471264388232, 9986.471264388232, 9986.471264388232, 9986.471264388232, 9986.471264388232, 9986.471264388232, 9986.471264388232, 9986.471264388232, 9986.471264388232, 9986.471264388232, 9986.471264388232, 9986.471264388232, 9986.471264388232, 9986.471264388232, 9986.471264388232, 9986.471264388232, 9986.471264388232, 9986.471264388232, 9986.471264388232, 9986.471264388232, 9986.471264388232, 9986.471264388232, 9986.471264388232, 9986.471264388232, 9986.471264388232, 9986.471264388232, 9981.060946975906, 9981.060946975906, 9981.060946975906, 9981.060946975906, 9981.060946975906, 9981.060946975906, 9981.060946975906, 9981.060946975906, 9981.060946975906, 9668.649300722718, 9668.649300722718, 9668.649300722718, 9668.649300722718, 9668.649300722718, 9668.649300722718, 9668.649300722718, 9668.649300722718, 9668.649300722718, 9668.649300722718, 9668.649300722718, 9668.649300722718, 9668.649300722718, 9668.649300722718, 9668.649300722718, 9668.649300722718, 9668.649300722718, 9686.002651616007, 9686.002651616007, 9686.002651616007, 9686.002651616007, 9686.002651616007, 9686.002651616007, 9686.002651616007, 9686.002651616007, 9686.002651616007, 9686.002651616007, 9686.002651616007, 9687.549615803453, 9687.549615803453, 9687.549615803453, 9687.549615803453, 9687.549615803453, 9687.549615803453, 9687.549615803453, 9687.549615803453, 9687.549615803453, 9687.549615803453, 9687.549615803453, 9687.549615803453, 9687.549615803453, 9687.549615803453, 9687.549615803453, 9687.549615803453, 9687.549615803453, 9687.549615803453, 9687.549615803453, 9687.549615803453, 9687.549615803453, 9687.549615803453, 9687.549615803453, 9687.549615803453, 9687.549615803453, 9687.549615803453, 9687.549615803453, 9687.549615803453, 9667.232686297919, 9667.232686297919, 9671.559276661354, 9671.559276661354, 9671.559276661354, 9671.559276661354, 9671.559276661354, 9671.559276661354, 9671.559276661354, 9678.952592003536, 9678.952592003536, 9678.952592003536, 9678.952592003536, 9652.267951020876, 9652.267951020876, 9652.267951020876, 9652.267951020876, 9652.267951020876, 9652.267951020876, 9652.267951020876, 9652.267951020876, 9652.267951020876, 9652.267951020876, 9652.267951020876, 9652.267951020876, 9652.267951020876, 9652.267951020876, 9652.267951020876, 9652.267951020876, 9652.267951020876, 9652.267951020876, 9652.267951020876, 9668.59702645024, 9668.59702645024, 9668.59702645024, 9668.59702645024, 9668.59702645024, 9668.59702645024, 9668.59702645024, 9661.563558333823, 9661.563558333823, 9661.563558333823, 9661.563558333823, 9661.563558333823, 9757.969862770957, 9757.969862770957, 9757.969862770957, 9757.969862770957, 9757.969862770957, 9767.776748485854, 9767.776748485854, 9767.776748485854, 9767.776748485854, 9767.776748485854, 9767.776748485854, 9767.776748485854, 9767.776748485854, 9767.776748485854, 9767.776748485854, 9767.776748485854, 9767.776748485854, 9767.776748485854, 9767.776748485854, 9767.776748485854, 9767.776748485854, 9767.776748485854, 9767.776748485854, 9767.776748485854, 9767.776748485854, 9767.776748485854, 9766.993776634416, 9766.993776634416, 9766.993776634416, 9766.993776634416, 9766.993776634416, 9766.993776634416, 9722.70280612529, 9722.70280612529, 9722.70280612529, 9722.70280612529, 9722.70280612529, 9722.70280612529, 9722.70280612529, 9722.70280612529, 9722.70280612529, 9722.70280612529, 9722.70280612529, 9722.70280612529, 9722.70280612529, 9722.70280612529, 9722.70280612529, 9722.70280612529, 9722.70280612529, 9722.70280612529, 9722.70280612529, 9722.70280612529, 9722.70280612529, 9722.70280612529, 9722.70280612529, 9722.70280612529, 9722.70280612529, 9737.950098683643, 9737.950098683643, 9737.950098683643, 9737.950098683643, 9737.950098683643, 9737.950098683643, 9737.950098683643, 9737.950098683643, 9737.950098683643, 9737.950098683643, 9737.950098683643, 9737.950098683643, 9737.950098683643, 9737.950098683643, 9737.950098683643, 9737.950098683643, 9737.950098683643, 9737.950098683643, 9737.950098683643, 9737.950098683643, 9737.950098683643, 9737.950098683643, 9737.950098683643, 9737.950098683643, 9737.950098683643, 9737.950098683643, 9737.950098683643, 9737.950098683643, 9737.950098683643, 9737.950098683643, 9737.950098683643, 9737.950098683643, 9737.950098683643, 9737.950098683643, 9737.950098683643, 9737.950098683643, 9737.950098683643, 9737.950098683643, 9545.354130961665, 9497.145465950996, 9497.145465950996, 9497.145465950996, 9497.145465950996, 9497.145465950996, 9497.145465950996, 9497.145465950996, 9497.145465950996, 9497.145465950996, 9497.145465950996, 9497.145465950996, 9497.145465950996, 9497.145465950996, 9497.145465950996, 9497.145465950996, 9497.145465950996, 9497.145465950996, 9497.145465950996, 9497.145465950996, 9497.145465950996, 9497.145465950996, 9497.145465950996, 9497.145465950996, 9497.145465950996, 9497.145465950996, 9497.145465950996, 9497.145465950996, 9497.145465950996, 9497.145465950996, 9497.145465950996, 9497.145465950996, 9497.145465950996, 9497.145465950996, 9497.145465950996, 9497.145465950996, 9497.145465950996, 9497.145465950996, 9497.145465950996, 9497.145465950996, 9497.145465950996, 9497.145465950996, 9497.145465950996, 9497.145465950996, 9497.145465950996, 9497.145465950996, 9497.145465950996, 9497.145465950996, 9497.145465950996, 9497.145465950996, 9497.145465950996, 9497.145465950996, 9497.145465950996, 9497.145465950996, 9497.145465950996, 9497.145465950996, 9497.145465950996, 9497.145465950996, 9497.145465950996, 9497.145465950996, 9497.145465950996, 9497.145465950996, 9497.145465950996, 9497.145465950996, 9497.145465950996, 9497.145465950996, 9612.385493099706, 9612.385493099706, 9612.385493099706, 9612.385493099706, 9612.385493099706, 9612.385493099706, 9612.385493099706, 9612.385493099706, 9612.385493099706, 9612.385493099706, 9612.385493099706, 9612.385493099706, 9612.385493099706, 9612.385493099706, 9612.385493099706, 9612.385493099706, 9612.385493099706, 9612.385493099706, 9612.385493099706, 9612.385493099706, 9612.385493099706, 9612.385493099706, 9612.385493099706, 9612.385493099706, 9612.385493099706, 9612.385493099706, 9612.385493099706, 9612.385493099706, 9601.615214478257, 9601.615214478257, 9601.615214478257, 9601.615214478257, 9601.615214478257, 9601.615214478257, 9601.615214478257, 9601.615214478257, 9601.615214478257, 9601.615214478257, 9601.615214478257, 9601.615214478257, 9601.615214478257, 9601.615214478257, 9601.615214478257, 9601.615214478257, 9601.615214478257, 9601.615214478257, 9601.615214478257, 9601.615214478257, 9601.615214478257, 9601.615214478257, 9601.615214478257, 9601.615214478257, 9601.615214478257, 9601.615214478257, 9601.615214478257, 9601.615214478257, 9601.615214478257, 9601.615214478257, 9601.615214478257, 9601.615214478257, 9601.615214478257, 9601.615214478257, 9601.615214478257, 9601.615214478257, 9601.615214478257, 9601.615214478257, 9601.615214478257, 9601.615214478257, 9601.615214478257, 9601.615214478257, 9601.615214478257, 9601.615214478257, 9601.615214478257, 9601.615214478257, 9601.615214478257, 9601.615214478257, 9601.615214478257, 9601.615214478257, 9601.615214478257, 9622.684535867686, 9622.684535867686, 9622.684535867686, 9622.684535867686, 9622.684535867686, 9622.684535867686, 9622.684535867686, 9622.684535867686, 9622.684535867686, 9622.684535867686, 9622.684535867686, 9622.684535867686, 9622.684535867686, 9622.684535867686, 9622.684535867686, 9622.684535867686, 9622.684535867686, 9622.684535867686, 9622.684535867686, 9622.684535867686, 9622.684535867686, 9622.684535867686, 9622.684535867686, 9622.684535867686, 9622.684535867686, 9622.684535867686, 9622.684535867686, 9622.684535867686, 9622.684535867686, 9583.136863583395, 9583.136863583395, 9583.136863583395, 9583.136863583395, 9583.136863583395, 9583.136863583395, 9583.136863583395, 9583.136863583395, 9583.136863583395, 9583.136863583395, 9583.136863583395, 9583.136863583395, 9583.136863583395, 9583.136863583395, 9583.136863583395, 9583.136863583395, 9583.136863583395, 9583.136863583395, 9583.136863583395, 9583.136863583395, 9583.136863583395, 9583.136863583395, 9583.136863583395, 9583.136863583395, 9583.136863583395, 9583.136863583395, 9583.136863583395, 9583.136863583395, 9583.136863583395, 9583.136863583395, 9583.136863583395, 9583.136863583395, 9583.136863583395, 9583.136863583395, 9583.136863583395, 9583.136863583395, 9583.136863583395, 9583.136863583395, 9583.136863583395, 9583.136863583395, 9583.136863583395, 9583.136863583395, 9583.136863583395, 9583.136863583395, 9583.136863583395, 9583.136863583395, 9583.136863583395, 9583.136863583395, 9583.136863583395, 9583.136863583395, 9583.136863583395, 9583.136863583395, 9583.136863583395, 9583.136863583395, 9583.136863583395, 9583.136863583395, 9583.136863583395, 9583.136863583395, 9583.136863583395, 9583.136863583395, 9490.452653734188, 9490.452653734188, 9490.452653734188, 9490.452653734188, 9490.452653734188, 9490.452653734188, 9490.452653734188, 9490.452653734188, 9490.452653734188, 9490.452653734188, 9490.452653734188, 9490.452653734188, 9490.452653734188, 9490.452653734188, 9490.452653734188, 9490.452653734188, 9490.452653734188, 9490.452653734188, 9490.452653734188, 9490.452653734188, 9490.452653734188, 9490.452653734188, 9490.452653734188, 9490.452653734188, 9490.452653734188, 9490.452653734188, 9472.683643489303, 9472.683643489303, 9472.683643489303, 9472.683643489303, 9472.683643489303, 9472.683643489303, 9472.683643489303, 9472.683643489303, 9472.683643489303, 9472.683643489303, 9472.683643489303, 9472.683643489303, 9472.683643489303, 9472.683643489303, 9472.683643489303, 9472.683643489303, 9472.683643489303, 9472.683643489303, 9472.683643489303, 9472.683643489303, 9472.683643489303, 9472.683643489303, 9472.683643489303, 9472.683643489303, 9472.683643489303, 9472.683643489303, 9472.683643489303, 9472.683643489303, 9472.683643489303, 9472.683643489303, 9472.683643489303, 9472.683643489303, 9472.683643489303, 9472.683643489303, 9472.683643489303, 9472.683643489303, 9472.683643489303, 9472.683643489303, 9472.683643489303, 9472.683643489303, 9472.683643489303, 9472.683643489303, 9472.683643489303, 9472.683643489303, 9472.683643489303, 9472.683643489303, 9472.683643489303, 9378.01242059084, 9378.01242059084, 9378.01242059084, 9378.01242059084, 9378.01242059084, 9378.01242059084, 9378.01242059084, 9378.01242059084, 9378.01242059084, 9378.01242059084, 9378.01242059084, 9378.01242059084, 9378.01242059084, 9378.01242059084, 9378.01242059084, 9378.01242059084, 9378.01242059084, 9378.01242059084, 9378.01242059084, 9342.748584506799, 9342.748584506799, 9342.748584506799, 9342.748584506799, 9342.748584506799, 9342.748584506799, 9342.748584506799, 9342.748584506799, 9342.748584506799, 9342.748584506799, 9342.748584506799, 9342.748584506799, 9342.748584506799, 9342.748584506799, 9342.748584506799, 9329.472114475948, 9329.472114475948, 9329.472114475948, 9329.472114475948, 9329.472114475948, 9329.472114475948, 9329.472114475948, 9329.472114475948, 9329.472114475948, 9329.472114475948, 9329.472114475948, 9329.472114475948, 9329.472114475948, 9329.472114475948, 9329.472114475948, 9329.472114475948, 9329.472114475948, 9325.747736314976, 9325.747736314976, 9325.747736314976, 9325.747736314976, 9325.747736314976, 9325.747736314976, 9325.747736314976, 9325.747736314976, 9325.747736314976, 9318.259523270375, 9318.259523270375, 9318.259523270375, 9318.259523270375, 9318.259523270375, 9318.259523270375, 9318.259523270375, 9318.259523270375, 9318.259523270375, 9261.423052050837, 9261.423052050837, 9261.423052050837, 9261.423052050837, 9261.423052050837, 9261.423052050837, 9261.423052050837, 9261.423052050837, 9314.345890772673, 9314.345890772673, 9314.345890772673, 9314.345890772673, 9314.345890772673, 9314.345890772673, 9314.345890772673, 9207.086300276118, 9207.086300276118, 9207.086300276118, 9207.086300276118, 9207.086300276118, 9207.086300276118, 9207.086300276118, 9207.086300276118, 9207.086300276118, 9207.086300276118, 9207.086300276118, 9207.086300276118, 9207.086300276118, 9207.086300276118, 9207.086300276118, 9207.086300276118, 9207.086300276118, 9210.455610801348, 9210.455610801348, 9210.455610801348, 9210.455610801348, 9210.455610801348, 9210.455610801348, 9210.455610801348, 9210.455610801348, 9210.455610801348, 9210.455610801348, 9210.455610801348, 9210.455610801348, 9210.455610801348, 9266.455077638244, 9266.455077638244, 9266.455077638244, 9266.455077638244, 9266.455077638244, 9266.455077638244, 9266.455077638244, 9266.455077638244, 9266.455077638244, 9266.455077638244, 9266.455077638244, 9266.455077638244, 9266.455077638244, 9266.455077638244, 9266.455077638244, 9266.455077638244, 9266.455077638244, 9266.455077638244, 9266.455077638244, 9266.455077638244, 9266.455077638244, 9266.455077638244, 9266.455077638244, 9266.455077638244, 9266.455077638244, 9266.455077638244, 9266.455077638244, 9266.455077638244, 9266.455077638244, 9266.455077638244, 9266.455077638244, 9266.455077638244, 9266.455077638244, 9266.455077638244, 9266.455077638244, 9254.219457414696, 9254.219457414696, 9254.219457414696, 9254.219457414696, 9254.219457414696, 9254.219457414696, 9254.219457414696, 9254.219457414696, 9282.7302889256, 9282.7302889256, 9282.7302889256, 9282.7302889256, 9282.7302889256, 9282.7302889256, 9282.7302889256, 9282.7302889256, 9282.7302889256, 9282.7302889256, 9282.7302889256, 9282.7302889256, 9282.7302889256, 9282.7302889256, 9282.7302889256, 9282.7302889256, 9282.7302889256, 9282.7302889256, 9282.7302889256, 9282.7302889256, 9282.7302889256, 9282.7302889256, 9282.7302889256, 9282.7302889256, 9282.7302889256, 9282.7302889256, 9282.7302889256, 9282.7302889256, 9282.7302889256, 9282.7302889256, 9282.7302889256, 9282.7302889256, 9282.7302889256, 9282.7302889256, 9261.23494513492, 9261.23494513492, 9261.23494513492, 9261.23494513492, 9261.23494513492, 9261.23494513492, 9261.23494513492, 9261.23494513492, 9261.23494513492, 9261.23494513492, 9261.23494513492, 9261.23494513492, 9210.666195094958, 9210.666195094958, 9210.666195094958, 9210.666195094958, 9210.666195094958, 9210.666195094958, 9210.666195094958, 9210.666195094958, 9210.666195094958, 9210.666195094958, 9210.666195094958, 9210.666195094958, 9210.666195094958, 9210.666195094958, 9210.666195094958, 9210.666195094958, 9210.666195094958, 9210.666195094958, 9210.666195094958, 9210.666195094958, 9210.666195094958, 9210.666195094958, 9210.666195094958, 9210.666195094958, 9264.543972885498, 9264.543972885498, 9264.543972885498, 9264.543972885498, 9264.543972885498, 9271.228631420721, 9271.228631420721, 9271.228631420721, 9271.228631420721, 9271.228631420721, 9271.228631420721, 9271.228631420721, 9271.228631420721, 9271.228631420721, 9271.228631420721, 9271.228631420721, 9271.228631420721, 9271.228631420721, 9271.228631420721, 9271.228631420721, 9271.228631420721, 9271.228631420721, 9271.228631420721, 9271.228631420721, 9271.228631420721, 9271.228631420721, 9271.228631420721, 9271.228631420721, 9271.228631420721, 9271.228631420721, 9271.228631420721, 9271.228631420721, 9271.228631420721, 9271.228631420721, 9271.228631420721, 9271.228631420721, 9271.228631420721, 9271.228631420721, 9271.228631420721, 9271.228631420721, 9271.228631420721, 9271.228631420721, 9271.228631420721, 9271.228631420721, 9271.228631420721, 9271.228631420721, 9261.95972059646, 9261.95972059646, 9261.95972059646, 9261.95972059646, 9261.95972059646, 9261.95972059646, 9261.95972059646, 9261.95972059646, 9261.95972059646, 9261.95972059646, 9261.95972059646, 9261.95972059646, 9261.95972059646, 9261.95972059646, 9261.95972059646, 9261.95972059646, 9261.95972059646, 9261.95972059646, 9261.95972059646, 9261.95972059646, 9261.95972059646, 9261.95972059646, 9261.95972059646, 9261.95972059646, 9261.95972059646, 9261.95972059646, 9261.95972059646, 9261.95972059646, 9261.95972059646, 9261.95972059646, 9261.95972059646, 9261.95972059646, 9261.95972059646, 9261.95972059646, 9261.95972059646, 9261.95972059646, 9261.95972059646, 9261.95972059646, 9261.95972059646, 9261.95972059646, 9261.95972059646, 9261.95972059646, 9261.95972059646, 9261.95972059646, 9261.95972059646, 9261.95972059646, 9261.95972059646, 9261.95972059646, 9261.95972059646, 9261.95972059646, 9261.95972059646, 9261.95972059646, 9261.95972059646, 9261.95972059646, 9261.95972059646, 9261.95972059646, 9261.95972059646, 9261.95972059646, 9261.95972059646, 9261.95972059646, 9261.95972059646, 9261.95972059646, 9261.95972059646, 9261.95972059646, 9261.95972059646, 9261.95972059646, 9261.95972059646, 9261.95972059646, 9261.95972059646, 9261.95972059646, 9261.95972059646, 9261.95972059646, 9261.95972059646, 9261.95972059646, 9261.95972059646, 9261.95972059646, 9261.95972059646, 9261.95972059646, 9261.95972059646, 9261.95972059646, 9261.95972059646, 9261.95972059646, 9261.95972059646, 9167.792860466669, 9167.792860466669, 9167.792860466669, 9158.627359554417, 9158.627359554417, 9158.627359554417, 9158.627359554417, 9158.627359554417, 9158.627359554417, 9158.627359554417, 9158.627359554417, 9158.627359554417, 9158.627359554417, 9158.627359554417, 9158.627359554417, 9158.627359554417, 9158.627359554417, 9158.627359554417, 9158.627359554417, 9158.627359554417, 9158.627359554417, 9158.627359554417, 9158.627359554417, 9158.627359554417, 9020.258709748317, 9020.258709748317, 9020.258709748317, 8993.49470347516, 8993.49470347516, 8993.49470347516, 8993.49470347516, 8993.49470347516, 8993.49470347516, 8993.49470347516, 8993.49470347516, 8993.49470347516, 8993.49470347516, 8993.49470347516, 8993.49470347516, 8993.49470347516, 8993.49470347516, 8993.49470347516, 8993.49470347516, 8993.49470347516, 8993.49470347516, 8993.49470347516, 8993.49470347516, 8993.49470347516, 8993.49470347516, 8993.49470347516, 8993.49470347516, 8993.49470347516, 8993.49470347516, 8993.49470347516, 8993.49470347516, 8993.49470347516, 8993.49470347516, 8993.49470347516, 8993.49470347516, 8993.49470347516, 8993.49470347516, 8993.49470347516, 8993.49470347516, 8993.49470347516, 8993.49470347516, 8993.49470347516, 8993.49470347516, 8993.49470347516, 8993.49470347516, 8993.49470347516, 8993.49470347516, 8993.49470347516, 8993.49470347516, 8993.49470347516, 8993.49470347516, 8993.49470347516, 8993.49470347516, 8993.49470347516, 8993.49470347516, 8993.49470347516, 8993.49470347516, 8993.49470347516, 8993.49470347516, 8993.49470347516, 8993.49470347516, 8993.49470347516, 8993.49470347516, 8993.49470347516, 8993.49470347516, 8993.49470347516, 8993.49470347516, 8993.49470347516, 8993.49470347516, 8993.49470347516, 8993.49470347516, 8993.49470347516, 8993.49470347516, 8993.49470347516, 8993.49470347516, 8993.49470347516, 8993.49470347516, 8993.49470347516, 8993.49470347516, 8993.49470347516, 8993.49470347516, 8993.49470347516, 8993.49470347516, 8993.49470347516, 8993.49470347516, 8993.49470347516, 8993.49470347516, 8993.49470347516, 8993.49470347516, 8993.49470347516, 8993.49470347516, 8993.49470347516, 8993.49470347516, 8993.49470347516, 8993.49470347516, 8993.49470347516, 8993.49470347516, 8993.49470347516, 8993.49470347516, 8993.49470347516, 8993.49470347516, 8993.49470347516, 8993.49470347516, 8993.49470347516, 8993.49470347516, 8993.49470347516, 8993.49470347516, 8993.49470347516, 8993.49470347516, 8993.49470347516, 8993.49470347516, 8993.49470347516, 8993.49470347516, 8993.49470347516, 8993.49470347516, 8993.49470347516, 8993.49470347516, 8993.49470347516, 8993.49470347516, 8993.49470347516, 8993.49470347516, 8993.49470347516, 8993.49470347516, 8993.49470347516, 8993.49470347516, 8993.49470347516, 8993.49470347516, 8993.49470347516, 8993.49470347516, 8993.49470347516, 9335.59090576739, 9335.59090576739, 9335.59090576739, 9335.59090576739, 9335.59090576739, 9335.59090576739, 9335.59090576739, 9335.59090576739, 9335.59090576739, 9335.59090576739, 9335.59090576739, 9308.257489292055, 9308.257489292055, 9308.257489292055, 9308.257489292055, 9308.257489292055, 9308.257489292055, 9308.257489292055, 9308.257489292055, 9308.257489292055, 9308.257489292055, 9308.257489292055, 9308.257489292055, 9308.257489292055, 9308.257489292055, 9308.257489292055, 9364.391479557491, 9364.391479557491, 9364.391479557491, 9364.391479557491, 9364.391479557491, 9350.018039171902, 9350.018039171902, 9350.018039171902, 9350.018039171902, 9350.018039171902, 9350.018039171902, 9350.018039171902, 9350.018039171902, 9350.018039171902, 9350.018039171902, 9350.018039171902, 9340.67035863724, 9340.67035863724, 9340.67035863724, 9340.67035863724, 9340.67035863724, 9340.67035863724, 9340.67035863724, 9340.67035863724, 9340.67035863724, 9340.67035863724, 9340.67035863724, 9340.67035863724, 9340.67035863724, 9340.67035863724, 9340.67035863724, 9340.67035863724, 9345.12209480628, 9345.12209480628, 9345.12209480628, 9345.12209480628, 9345.12209480628, 9345.12209480628, 9345.12209480628, 9345.12209480628, 9345.12209480628, 9345.12209480628, 9345.12209480628, 9345.12209480628, 9345.12209480628, 9345.12209480628, 9345.12209480628, 9345.12209480628, 9345.12209480628, 9345.12209480628, 9345.12209480628, 9345.12209480628, 9345.12209480628, 9345.12209480628, 9345.12209480628, 9345.12209480628, 9345.12209480628, 9345.12209480628, 9345.12209480628, 9345.12209480628, 9345.12209480628, 9345.12209480628, 9345.12209480628, 9345.12209480628, 9345.12209480628, 9345.12209480628, 9345.12209480628, 9345.12209480628, 9345.12209480628, 9345.12209480628, 9345.12209480628, 9345.12209480628, 9345.12209480628, 9345.12209480628, 9345.12209480628, 9345.12209480628, 9345.12209480628, 9345.12209480628, 9345.12209480628, 9345.12209480628, 9345.12209480628, 9345.12209480628, 9345.12209480628, 9345.12209480628, 9345.12209480628, 9345.12209480628, 9345.12209480628, 9345.12209480628, 9345.12209480628, 9345.12209480628, 9362.054066366722, 9362.054066366722, 9362.054066366722, 9362.054066366722, 9362.054066366722, 9362.054066366722, 9362.054066366722, 9362.054066366722, 9362.054066366722, 9362.054066366722, 9362.054066366722, 9362.054066366722, 9362.054066366722, 9373.666152162223, 9373.666152162223, 9373.666152162223, 9373.666152162223, 9373.666152162223, 9388.047761922477, 9388.047761922477, 9388.047761922477, 9388.047761922477, 9388.047761922477, 9388.047761922477, 9388.047761922477, 9388.047761922477, 9388.047761922477, 9388.047761922477, 9388.047761922477, 9471.768652025892, 9471.768652025892, 9471.768652025892, 9471.768652025892, 9471.768652025892, 9471.768652025892, 9471.768652025892, 9502.248365637584, 9502.248365637584, 9502.248365637584, 9502.248365637584, 9502.248365637584, 9502.248365637584, 9502.248365637584, 9502.248365637584, 9502.248365637584, 9606.764117553541, 9606.764117553541, 9606.764117553541, 9606.764117553541, 9606.764117553541, 9606.764117553541, 9606.764117553541, 9606.764117553541, 9834.972368376299, 9834.972368376299, 9834.972368376299, 9834.972368376299, 9834.972368376299, 9834.972368376299, 9834.972368376299, 9834.972368376299, 9834.972368376299, 9834.972368376299, 9834.972368376299, 9834.972368376299, 9834.972368376299, 9834.972368376299, 9834.972368376299, 9834.972368376299, 9834.972368376299, 9834.972368376299, 9834.972368376299, 9834.972368376299, 9834.972368376299, 9834.972368376299, 9834.972368376299, 9844.528832251215, 9844.528832251215, 9844.528832251215, 9844.528832251215, 9844.528832251215, 9768.215408059947, 9768.215408059947, 9745.660715612403, 9745.660715612403, 9741.54832152288, 9741.54832152288, 9741.54832152288, 9741.54832152288, 9741.54832152288, 9741.54832152288, 9741.54832152288, 9741.54832152288, 9741.54832152288, 9741.54832152288, 9741.54832152288, 9741.54832152288, 9741.54832152288, 9741.54832152288, 9741.54832152288, 9741.54832152288, 9741.54832152288, 9741.54832152288, 9741.54832152288, 9741.54832152288, 9741.54832152288, 9741.54832152288, 9741.54832152288, 9741.54832152288, 9741.54832152288, 9741.54832152288, 9741.54832152288, 9741.54832152288, 9741.54832152288, 9741.54832152288, 9741.54832152288, 9741.54832152288, 9741.54832152288, 9741.54832152288, 9741.54832152288, 9741.54832152288, 9741.54832152288, 9741.54832152288, 9741.54832152288, 9741.54832152288, 9741.54832152288, 9741.54832152288, 9741.54832152288, 9741.54832152288, 9741.54832152288, 9741.54832152288, 9741.54832152288, 9741.54832152288, 9741.54832152288, 9741.54832152288, 9741.54832152288, 9741.54832152288, 9741.54832152288, 9741.54832152288, 9741.54832152288, 9741.54832152288]\n"
     ]
    }
   ],
   "source": [
    "# 투자 후 금액\n",
    "print(total_momey)\n",
    "print(total_momey_list)"
   ]
  },
  {
   "cell_type": "code",
   "execution_count": null,
   "metadata": {
    "id": "waERHChBy2AS"
   },
   "outputs": [],
   "source": [
    "# 파일의 이름을 지정해줍니다.\n",
    "FILE_NAME = \"/0616_ARIMA_MFI_30UNDER_MAXVAL_115_SUBMIT.csv\""
   ]
  },
  {
   "cell_type": "code",
   "execution_count": null,
   "metadata": {
    "id": "dHqYu8lFy21T"
   },
   "outputs": [],
   "source": [
    "# 제출경로에 파일을 생성해줍니다.\n",
    "SUBMIT_PATH = \"/content/drive/MyDrive/dacon/season3\"\n",
    "RESULT_PATH = SUBMIT_PATH + FILE_NAME\n",
    "\n",
    "submit.to_csv(RESULT_PATH, index=False)"
   ]
  }
 ],
 "metadata": {
  "colab": {
   "collapsed_sections": [],
   "name": "mfi_try.ipynb",
   "provenance": []
  },
  "kernelspec": {
   "display_name": "Python 3",
   "language": "python",
   "name": "python3"
  },
  "language_info": {
   "codemirror_mode": {
    "name": "ipython",
    "version": 3
   },
   "file_extension": ".py",
   "mimetype": "text/x-python",
   "name": "python",
   "nbconvert_exporter": "python",
   "pygments_lexer": "ipython3",
   "version": "3.8.6"
  },
  "toc": {
   "base_numbering": 1,
   "nav_menu": {},
   "number_sections": true,
   "sideBar": true,
   "skip_h1_title": false,
   "title_cell": "Table of Contents",
   "title_sidebar": "Contents",
   "toc_cell": false,
   "toc_position": {},
   "toc_section_display": true,
   "toc_window_display": false
  },
  "widgets": {
   "application/vnd.jupyter.widget-state+json": {
    "1b9d9055ef5b4ec98cfae0e3bf49ebd1": {
     "model_module": "@jupyter-widgets/base",
     "model_name": "LayoutModel",
     "state": {
      "_model_module": "@jupyter-widgets/base",
      "_model_module_version": "1.2.0",
      "_model_name": "LayoutModel",
      "_view_count": null,
      "_view_module": "@jupyter-widgets/base",
      "_view_module_version": "1.2.0",
      "_view_name": "LayoutView",
      "align_content": null,
      "align_items": null,
      "align_self": null,
      "border": null,
      "bottom": null,
      "display": null,
      "flex": null,
      "flex_flow": null,
      "grid_area": null,
      "grid_auto_columns": null,
      "grid_auto_flow": null,
      "grid_auto_rows": null,
      "grid_column": null,
      "grid_gap": null,
      "grid_row": null,
      "grid_template_areas": null,
      "grid_template_columns": null,
      "grid_template_rows": null,
      "height": null,
      "justify_content": null,
      "justify_items": null,
      "left": null,
      "margin": null,
      "max_height": null,
      "max_width": null,
      "min_height": null,
      "min_width": null,
      "object_fit": null,
      "object_position": null,
      "order": null,
      "overflow": null,
      "overflow_x": null,
      "overflow_y": null,
      "padding": null,
      "right": null,
      "top": null,
      "visibility": null,
      "width": null
     }
    },
    "3df5b15cf0df46b9b07c36ed87adaa65": {
     "model_module": "@jupyter-widgets/base",
     "model_name": "LayoutModel",
     "state": {
      "_model_module": "@jupyter-widgets/base",
      "_model_module_version": "1.2.0",
      "_model_name": "LayoutModel",
      "_view_count": null,
      "_view_module": "@jupyter-widgets/base",
      "_view_module_version": "1.2.0",
      "_view_name": "LayoutView",
      "align_content": null,
      "align_items": null,
      "align_self": null,
      "border": null,
      "bottom": null,
      "display": null,
      "flex": null,
      "flex_flow": null,
      "grid_area": null,
      "grid_auto_columns": null,
      "grid_auto_flow": null,
      "grid_auto_rows": null,
      "grid_column": null,
      "grid_gap": null,
      "grid_row": null,
      "grid_template_areas": null,
      "grid_template_columns": null,
      "grid_template_rows": null,
      "height": null,
      "justify_content": null,
      "justify_items": null,
      "left": null,
      "margin": null,
      "max_height": null,
      "max_width": null,
      "min_height": null,
      "min_width": null,
      "object_fit": null,
      "object_position": null,
      "order": null,
      "overflow": null,
      "overflow_x": null,
      "overflow_y": null,
      "padding": null,
      "right": null,
      "top": null,
      "visibility": null,
      "width": null
     }
    },
    "64096b115c8d4ce789a2be211ae9165b": {
     "model_module": "@jupyter-widgets/controls",
     "model_name": "FloatProgressModel",
     "state": {
      "_dom_classes": [],
      "_model_module": "@jupyter-widgets/controls",
      "_model_module_version": "1.5.0",
      "_model_name": "FloatProgressModel",
      "_view_count": null,
      "_view_module": "@jupyter-widgets/controls",
      "_view_module_version": "1.5.0",
      "_view_name": "ProgressView",
      "bar_style": "danger",
      "description": "  0%",
      "description_tooltip": null,
      "layout": "IPY_MODEL_ac9b5a4afa784fda8ace9619c5d80970",
      "max": 1,
      "min": 0,
      "orientation": "horizontal",
      "style": "IPY_MODEL_e49d5e85079448d58a66c36453b24ce8",
      "value": 0
     }
    },
    "8db6f88fa19448beb46c61f55cfb9407": {
     "model_module": "@jupyter-widgets/controls",
     "model_name": "HTMLModel",
     "state": {
      "_dom_classes": [],
      "_model_module": "@jupyter-widgets/controls",
      "_model_module_version": "1.5.0",
      "_model_name": "HTMLModel",
      "_view_count": null,
      "_view_module": "@jupyter-widgets/controls",
      "_view_module_version": "1.5.0",
      "_view_name": "HTMLView",
      "description": "",
      "description_tooltip": null,
      "layout": "IPY_MODEL_1b9d9055ef5b4ec98cfae0e3bf49ebd1",
      "placeholder": "​",
      "style": "IPY_MODEL_b99cecf27d71457bb3c31a1cc96953d8",
      "value": " 0/1 [00:00&lt;?, ?it/s]"
     }
    },
    "ac9b5a4afa784fda8ace9619c5d80970": {
     "model_module": "@jupyter-widgets/base",
     "model_name": "LayoutModel",
     "state": {
      "_model_module": "@jupyter-widgets/base",
      "_model_module_version": "1.2.0",
      "_model_name": "LayoutModel",
      "_view_count": null,
      "_view_module": "@jupyter-widgets/base",
      "_view_module_version": "1.2.0",
      "_view_name": "LayoutView",
      "align_content": null,
      "align_items": null,
      "align_self": null,
      "border": null,
      "bottom": null,
      "display": null,
      "flex": null,
      "flex_flow": null,
      "grid_area": null,
      "grid_auto_columns": null,
      "grid_auto_flow": null,
      "grid_auto_rows": null,
      "grid_column": null,
      "grid_gap": null,
      "grid_row": null,
      "grid_template_areas": null,
      "grid_template_columns": null,
      "grid_template_rows": null,
      "height": null,
      "justify_content": null,
      "justify_items": null,
      "left": null,
      "margin": null,
      "max_height": null,
      "max_width": null,
      "min_height": null,
      "min_width": null,
      "object_fit": null,
      "object_position": null,
      "order": null,
      "overflow": null,
      "overflow_x": null,
      "overflow_y": null,
      "padding": null,
      "right": null,
      "top": null,
      "visibility": null,
      "width": null
     }
    },
    "b99cecf27d71457bb3c31a1cc96953d8": {
     "model_module": "@jupyter-widgets/controls",
     "model_name": "DescriptionStyleModel",
     "state": {
      "_model_module": "@jupyter-widgets/controls",
      "_model_module_version": "1.5.0",
      "_model_name": "DescriptionStyleModel",
      "_view_count": null,
      "_view_module": "@jupyter-widgets/base",
      "_view_module_version": "1.2.0",
      "_view_name": "StyleView",
      "description_width": ""
     }
    },
    "e2ebd160758b4d30b28d322d2114fe94": {
     "model_module": "@jupyter-widgets/controls",
     "model_name": "HBoxModel",
     "state": {
      "_dom_classes": [],
      "_model_module": "@jupyter-widgets/controls",
      "_model_module_version": "1.5.0",
      "_model_name": "HBoxModel",
      "_view_count": null,
      "_view_module": "@jupyter-widgets/controls",
      "_view_module_version": "1.5.0",
      "_view_name": "HBoxView",
      "box_style": "",
      "children": [
       "IPY_MODEL_64096b115c8d4ce789a2be211ae9165b",
       "IPY_MODEL_8db6f88fa19448beb46c61f55cfb9407"
      ],
      "layout": "IPY_MODEL_3df5b15cf0df46b9b07c36ed87adaa65"
     }
    },
    "e49d5e85079448d58a66c36453b24ce8": {
     "model_module": "@jupyter-widgets/controls",
     "model_name": "ProgressStyleModel",
     "state": {
      "_model_module": "@jupyter-widgets/controls",
      "_model_module_version": "1.5.0",
      "_model_name": "ProgressStyleModel",
      "_view_count": null,
      "_view_module": "@jupyter-widgets/base",
      "_view_module_version": "1.2.0",
      "_view_name": "StyleView",
      "bar_color": null,
      "description_width": "initial"
     }
    }
   }
  }
 },
 "nbformat": 4,
 "nbformat_minor": 1
}
